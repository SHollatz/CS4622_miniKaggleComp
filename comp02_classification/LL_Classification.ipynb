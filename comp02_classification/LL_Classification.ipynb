{
 "cells": [
  {
   "cell_type": "markdown",
   "metadata": {},
   "source": [
    "<h2>Classification Challenge</h2>\n",
    "\n",
    "Classifying whether to buy stocks or not\n",
    "\n",
    "**Lulu Liu**"
   ]
  },
  {
   "cell_type": "markdown",
   "metadata": {},
   "source": [
    "<h1>Data Pre-processing</h1>"
   ]
  },
  {
   "cell_type": "code",
   "execution_count": 1,
   "metadata": {},
   "outputs": [],
   "source": [
    "import pandas as pd\n",
    "import numpy as np\n",
    "from sklearn import preprocessing"
   ]
  },
  {
   "cell_type": "markdown",
   "metadata": {},
   "source": [
    "_Training Data_"
   ]
  },
  {
   "cell_type": "code",
   "execution_count": 2,
   "metadata": {},
   "outputs": [],
   "source": [
    "trainDF = pd.read_csv('data/stock_XY_train.csv')\n",
    "trainDF = trainDF.drop(columns=['Unnamed: 0'])\n",
    "\n",
    "# A good number of columns with a LOT of NAN valules\n",
    "trainCol = trainDF.columns\n",
    "trainColNANs = trainDF.isna().sum()\n",
    "\n",
    "# Data sets\n",
    "trainX = trainDF.drop(columns=['Buy'])\n",
    "trainY = trainDF['Buy']"
   ]
  },
  {
   "cell_type": "code",
   "execution_count": 3,
   "metadata": {},
   "outputs": [],
   "source": [
    "# Converts string columns to corresponding int IDs\n",
    "stringCols = dict(zip(trainX.columns, trainX.dtypes))\n",
    "stringCols = [ key for key in stringCols if stringCols[key] == 'object' ]\n",
    "for col in stringCols:\n",
    "    IDs = dict(enumerate(trainX[col].unique()))\n",
    "    IDs = {v: k for k, v in IDs.items()}\n",
    "    trainX[col].replace(IDs, inplace=True)"
   ]
  },
  {
   "cell_type": "code",
   "execution_count": 4,
   "metadata": {},
   "outputs": [],
   "source": [
    "# Filling in NaN values with the feature's mean value\n",
    "trainMeans = dict(zip(trainX.columns, trainX.mean()))\n",
    "trainX = trainX.fillna(trainMeans)"
   ]
  },
  {
   "cell_type": "code",
   "execution_count": 5,
   "metadata": {},
   "outputs": [],
   "source": [
    "# Normalizing columns with negative values\n",
    "temp = trainX.values\n",
    "min_max_scaler = preprocessing.MinMaxScaler()\n",
    "tempScaled = min_max_scaler.fit_transform(temp)\n",
    "trainX = pd.DataFrame(tempScaled)\n",
    "trainX.columns = list(trainX.columns)"
   ]
  },
  {
   "cell_type": "code",
   "execution_count": 6,
   "metadata": {},
   "outputs": [],
   "source": [
    "# trainX"
   ]
  },
  {
   "cell_type": "markdown",
   "metadata": {},
   "source": [
    "_Testing Data_"
   ]
  },
  {
   "cell_type": "code",
   "execution_count": 7,
   "metadata": {},
   "outputs": [],
   "source": [
    "testDF = pd.read_csv('data/stock_X_test.csv')\n",
    "testDF = testDF.drop(columns=['Unnamed: 0', 'Unnamed: 0.1'])\n",
    "\n",
    "# A good number of columns with a LOT of NAN valules\n",
    "testCol = testDF.columns\n",
    "testColNANs = testDF.isna().sum()\n",
    "\n",
    "# Data set\n",
    "testX = testDF"
   ]
  },
  {
   "cell_type": "code",
   "execution_count": 8,
   "metadata": {},
   "outputs": [],
   "source": [
    "# Converts string columns to corresponding int IDs\n",
    "stringCols = dict(zip(testX.columns, testX.dtypes))\n",
    "stringCols = [ key for key in stringCols if stringCols[key] == 'object' ]\n",
    "for col in stringCols:\n",
    "    IDs = dict(enumerate(testX[col].unique()))\n",
    "    IDs = {v: k for k, v in IDs.items()}\n",
    "    testX[col].replace(IDs, inplace=True)"
   ]
  },
  {
   "cell_type": "code",
   "execution_count": 9,
   "metadata": {},
   "outputs": [],
   "source": [
    "# Filling in NaN values with the feature's mean value\n",
    "testMeans = dict(zip(testX.columns, testX.mean()))\n",
    "testX = testX.fillna(testMeans)"
   ]
  },
  {
   "cell_type": "code",
   "execution_count": 10,
   "metadata": {},
   "outputs": [],
   "source": [
    "# Normalizing columns with negative values\n",
    "temp = testX.values\n",
    "min_max_scaler = preprocessing.MinMaxScaler()\n",
    "tempScaled = min_max_scaler.fit_transform(temp)\n",
    "testX = pd.DataFrame(tempScaled)\n",
    "testX.columns = list(testX.columns)"
   ]
  },
  {
   "cell_type": "code",
   "execution_count": 11,
   "metadata": {},
   "outputs": [],
   "source": [
    "# testX"
   ]
  },
  {
   "cell_type": "markdown",
   "metadata": {},
   "source": [
    "_Sample Submission_"
   ]
  },
  {
   "cell_type": "code",
   "execution_count": 12,
   "metadata": {},
   "outputs": [],
   "source": [
    "sampleSub = pd.read_csv('data/sample_submission.csv')\n",
    "# sampleSub.head()"
   ]
  },
  {
   "cell_type": "markdown",
   "metadata": {},
   "source": [
    "<h1>Feature Selection</h1>"
   ]
  },
  {
   "cell_type": "code",
   "execution_count": 13,
   "metadata": {},
   "outputs": [],
   "source": [
    "from sklearn.feature_selection import SelectKBest, chi2"
   ]
  },
  {
   "cell_type": "code",
   "execution_count": 14,
   "metadata": {},
   "outputs": [],
   "source": [
    "selectBest = SelectKBest(chi2, k=20)\n",
    "features = selectBest.fit(trainX, trainY)"
   ]
  },
  {
   "cell_type": "code",
   "execution_count": null,
   "metadata": {},
   "outputs": [],
   "source": []
  },
  {
   "cell_type": "code",
   "execution_count": null,
   "metadata": {},
   "outputs": [],
   "source": []
  },
  {
   "cell_type": "markdown",
   "metadata": {},
   "source": [
    "<h1>Logistic Regression</h1>"
   ]
  },
  {
   "cell_type": "code",
   "execution_count": 15,
   "metadata": {},
   "outputs": [],
   "source": [
    "from sklearn.model_selection import train_test_split\n",
    "from sklearn.linear_model import LogisticRegression"
   ]
  },
  {
   "cell_type": "code",
   "execution_count": 16,
   "metadata": {},
   "outputs": [
    {
     "name": "stderr",
     "output_type": "stream",
     "text": [
      "C:\\Users\\lykas\\Anaconda3\\lib\\site-packages\\sklearn\\linear_model\\logistic.py:432: FutureWarning: Default solver will be changed to 'lbfgs' in 0.22. Specify a solver to silence this warning.\n",
      "  FutureWarning)\n"
     ]
    },
    {
     "data": {
      "text/plain": [
       "0.5737075928917609"
      ]
     },
     "execution_count": 16,
     "metadata": {},
     "output_type": "execute_result"
    }
   ],
   "source": [
    "X_train, X_test, y_train, y_test = train_test_split(trainX, trainY, test_size=0.4, random_state=0)\n",
    "logReg = LogisticRegression(random_state=0).fit(X_train, y_train)\n",
    "logReg.score(X_test, y_test)"
   ]
  },
  {
   "cell_type": "markdown",
   "metadata": {},
   "source": [
    "<h1>Decision Tree</h1>"
   ]
  },
  {
   "cell_type": "code",
   "execution_count": null,
   "metadata": {},
   "outputs": [],
   "source": []
  },
  {
   "cell_type": "code",
   "execution_count": null,
   "metadata": {},
   "outputs": [],
   "source": []
  },
  {
   "cell_type": "code",
   "execution_count": null,
   "metadata": {},
   "outputs": [],
   "source": []
  },
  {
   "cell_type": "markdown",
   "metadata": {},
   "source": [
    "<h1>Random Forest</h1>"
   ]
  },
  {
   "cell_type": "code",
   "execution_count": null,
   "metadata": {},
   "outputs": [],
   "source": []
  },
  {
   "cell_type": "code",
   "execution_count": null,
   "metadata": {},
   "outputs": [],
   "source": []
  },
  {
   "cell_type": "code",
   "execution_count": null,
   "metadata": {},
   "outputs": [],
   "source": []
  },
  {
   "cell_type": "markdown",
   "metadata": {},
   "source": [
    "<h1>Neural Network</h1>"
   ]
  },
  {
   "cell_type": "code",
   "execution_count": null,
   "metadata": {},
   "outputs": [],
   "source": []
  },
  {
   "cell_type": "code",
   "execution_count": null,
   "metadata": {},
   "outputs": [],
   "source": []
  },
  {
   "cell_type": "code",
   "execution_count": null,
   "metadata": {},
   "outputs": [],
   "source": []
  }
 ],
 "metadata": {
  "kernelspec": {
   "display_name": "Python 3",
   "language": "python",
   "name": "python3"
  },
  "language_info": {
   "codemirror_mode": {
    "name": "ipython",
    "version": 3
   },
   "file_extension": ".py",
   "mimetype": "text/x-python",
   "name": "python",
   "nbconvert_exporter": "python",
   "pygments_lexer": "ipython3",
   "version": "3.7.4"
  }
 },
 "nbformat": 4,
 "nbformat_minor": 2
}
