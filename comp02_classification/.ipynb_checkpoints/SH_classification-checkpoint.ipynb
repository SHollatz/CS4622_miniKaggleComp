{
 "cells": [
  {
   "cell_type": "markdown",
   "metadata": {
    "colab_type": "text",
    "id": "nmwU6lcYMGKJ"
   },
   "source": [
    "### CS4622 Mini Kaggle Competition - Classification\n",
    "#### Author: Sabine Hollatz"
   ]
  },
  {
   "cell_type": "code",
   "execution_count": 1,
   "metadata": {
    "colab": {
     "base_uri": "https://localhost:8080/",
     "height": 71
    },
    "colab_type": "code",
    "id": "F1BWbddEMGKP",
    "outputId": "6b204d5d-46ee-4602-9b1e-b2045651166f"
   },
   "outputs": [
    {
     "name": "stderr",
     "output_type": "stream",
     "text": [
      "C:\\Users\\lykas\\Anaconda3\\lib\\site-packages\\sklearn\\externals\\six.py:31: DeprecationWarning: The module is deprecated in version 0.21 and will be removed in version 0.23 since we've dropped support for Python 2.7. Please rely on the official version of six (https://pypi.org/project/six/).\n",
      "  \"(https://pypi.org/project/six/).\", DeprecationWarning)\n"
     ]
    },
    {
     "ename": "ModuleNotFoundError",
     "evalue": "No module named 'tensorflow'",
     "output_type": "error",
     "traceback": [
      "\u001b[1;31m---------------------------------------------------------------------------\u001b[0m",
      "\u001b[1;31mModuleNotFoundError\u001b[0m                       Traceback (most recent call last)",
      "\u001b[1;32m<ipython-input-1-79cd1b100d55>\u001b[0m in \u001b[0;36m<module>\u001b[1;34m\u001b[0m\n\u001b[0;32m     14\u001b[0m \u001b[1;32mimport\u001b[0m \u001b[0mpydotplus\u001b[0m\u001b[1;33m\u001b[0m\u001b[1;33m\u001b[0m\u001b[0m\n\u001b[0;32m     15\u001b[0m \u001b[1;31m# %tensorflow_version 2.x\u001b[0m\u001b[1;33m\u001b[0m\u001b[1;33m\u001b[0m\u001b[1;33m\u001b[0m\u001b[0m\n\u001b[1;32m---> 16\u001b[1;33m \u001b[1;32mimport\u001b[0m \u001b[0mtensorflow\u001b[0m \u001b[1;32mas\u001b[0m \u001b[0mtf\u001b[0m\u001b[1;33m\u001b[0m\u001b[1;33m\u001b[0m\u001b[0m\n\u001b[0m\u001b[0;32m     17\u001b[0m \u001b[1;33m\u001b[0m\u001b[0m\n\u001b[0;32m     18\u001b[0m \u001b[1;32mimport\u001b[0m \u001b[0mseaborn\u001b[0m \u001b[1;32mas\u001b[0m \u001b[0msns\u001b[0m\u001b[1;33m\u001b[0m\u001b[1;33m\u001b[0m\u001b[0m\n",
      "\u001b[1;31mModuleNotFoundError\u001b[0m: No module named 'tensorflow'"
     ]
    }
   ],
   "source": [
    "import pandas as pd\n",
    "import numpy as np\n",
    "import matplotlib.pyplot as plt\n",
    "%matplotlib inline\n",
    "import statsmodels.formula.api as smf\n",
    "import statsmodels.api as sm\n",
    "from sklearn import preprocessing, metrics\n",
    "from sklearn.model_selection import cross_val_score, cross_val_predict\n",
    "from sklearn import linear_model\n",
    "from sklearn.tree import DecisionTreeClassifier\n",
    "from sklearn.externals.six import StringIO  \n",
    "from IPython.display import Image  \n",
    "from sklearn.tree import export_graphviz\n",
    "import pydotplus\n",
    "# %tensorflow_version 2.x\n",
    "import tensorflow as tf\n",
    "\n",
    "import seaborn as sns"
   ]
  },
  {
   "cell_type": "markdown",
   "metadata": {
    "colab_type": "text",
    "id": "l5vSTBunMGKe"
   },
   "source": [
    "### Loading the Data and Preprocessiong"
   ]
  },
  {
   "cell_type": "code",
   "execution_count": null,
   "metadata": {
    "colab": {
     "base_uri": "https://localhost:8080/",
     "height": 54
    },
    "colab_type": "code",
    "id": "beRcZplTNha1",
    "outputId": "0b5b874d-be30-4581-9f96-18de78e27cd9"
   },
   "outputs": [],
   "source": [
    "from google.colab import drive\n",
    "drive.mount('/content/drive/')"
   ]
  },
  {
   "cell_type": "code",
   "execution_count": null,
   "metadata": {
    "colab": {
     "base_uri": "https://localhost:8080/",
     "height": 406
    },
    "colab_type": "code",
    "id": "_nMt_jNbMGKh",
    "outputId": "0cc9413f-5713-413b-bf4c-b2915bc1b34e"
   },
   "outputs": [],
   "source": [
    "df_train = pd.read_csv('/content/drive/My Drive/Colab Notebooks/data/stock_XY_train.csv')\n",
    "df_train.head()"
   ]
  },
  {
   "cell_type": "code",
   "execution_count": null,
   "metadata": {
    "colab": {
     "base_uri": "https://localhost:8080/",
     "height": 406
    },
    "colab_type": "code",
    "id": "HxOakh8dMGKr",
    "outputId": "2d6b0512-3ff8-4fc8-bebb-a6061759a32e"
   },
   "outputs": [],
   "source": [
    "df_train = df_train.drop(['Unnamed: 0', 'Ticker', 'Yr'], axis=1)\n",
    "df_train.head()"
   ]
  },
  {
   "cell_type": "code",
   "execution_count": null,
   "metadata": {
    "colab": {
     "base_uri": "https://localhost:8080/",
     "height": 372
    },
    "colab_type": "code",
    "id": "zyVT8Q6WMGK0",
    "outputId": "0944930c-61a3-4e46-81d7-d82bce107e04"
   },
   "outputs": [],
   "source": [
    "df_val = pd.read_csv('/content/drive/My Drive/Colab Notebooks/data/stock_X_test.csv')\n",
    "df_val.head()"
   ]
  },
  {
   "cell_type": "code",
   "execution_count": null,
   "metadata": {
    "colab": {
     "base_uri": "https://localhost:8080/",
     "height": 372
    },
    "colab_type": "code",
    "id": "fC4EJ39DMGK-",
    "outputId": "6544b85f-3712-4b04-d3a2-03c649e6658c"
   },
   "outputs": [],
   "source": [
    "df_val = df_val.drop(['Unnamed: 0', 'Unnamed: 0.1', 'Ticker', 'Yr'], axis=1)\n",
    "df_val.head()"
   ]
  },
  {
   "cell_type": "code",
   "execution_count": null,
   "metadata": {
    "colab": {
     "base_uri": "https://localhost:8080/",
     "height": 221
    },
    "colab_type": "code",
    "id": "WvWH6MZ8MGLG",
    "outputId": "05014784-7ccb-4bf2-9fb5-12169dc9fd62"
   },
   "outputs": [],
   "source": [
    "df_train.dtypes"
   ]
  },
  {
   "cell_type": "code",
   "execution_count": null,
   "metadata": {
    "colab": {},
    "colab_type": "code",
    "id": "1KJSkGgCTcID"
   },
   "outputs": [],
   "source": [
    "df_train['Sector'] = df_train['Sector'].astype('category')"
   ]
  },
  {
   "cell_type": "code",
   "execution_count": null,
   "metadata": {
    "colab": {
     "base_uri": "https://localhost:8080/",
     "height": 221
    },
    "colab_type": "code",
    "id": "wnNZYTy_Tf9F",
    "outputId": "5dbe2a5f-bc71-47c6-adeb-6901ab64728f"
   },
   "outputs": [],
   "source": [
    "df_train.dtypes"
   ]
  },
  {
   "cell_type": "code",
   "execution_count": null,
   "metadata": {
    "colab": {
     "base_uri": "https://localhost:8080/",
     "height": 221
    },
    "colab_type": "code",
    "id": "GDTjjXsUMGLN",
    "outputId": "d97bc92a-6025-4c6d-aeb5-7076ee8abe3a"
   },
   "outputs": [],
   "source": [
    "df_train.isna().sum()"
   ]
  },
  {
   "cell_type": "code",
   "execution_count": null,
   "metadata": {
    "colab": {},
    "colab_type": "code",
    "id": "UFfcoq70MGLV"
   },
   "outputs": [],
   "source": [
    "# split predictors and response variable\n",
    "X_train = df_train.drop('Buy', axis=1)\n",
    "y_train = df_train['Buy']"
   ]
  },
  {
   "cell_type": "code",
   "execution_count": null,
   "metadata": {
    "colab": {},
    "colab_type": "code",
    "id": "2JQjMTn7MGLb"
   },
   "outputs": [],
   "source": [
    "# get quantitative features to fill missing values with the feature mean. No missing values in qualitative \n",
    "# feature 'Sector'.\n",
    "X_train_quant = X_train.drop('Sector', axis=1)\n",
    "columns_quant = list(X_train_quant.columns.values)\n",
    "\n",
    "X_train[columns_quant] = X_train[columns_quant].transform(lambda x: x.fillna(x.mean()))"
   ]
  },
  {
   "cell_type": "code",
   "execution_count": null,
   "metadata": {
    "colab": {
     "base_uri": "https://localhost:8080/",
     "height": 221
    },
    "colab_type": "code",
    "id": "7hsNVE5EMGLl",
    "outputId": "244c9e70-c001-463b-bbdd-243b6e1f4c28"
   },
   "outputs": [],
   "source": [
    "X_train.isna().sum()"
   ]
  },
  {
   "cell_type": "code",
   "execution_count": null,
   "metadata": {
    "colab": {
     "base_uri": "https://localhost:8080/",
     "height": 221
    },
    "colab_type": "code",
    "id": "AoflZpa3MGLu",
    "outputId": "b101ba21-9e60-44ca-e641-124c7b927fe0"
   },
   "outputs": [],
   "source": [
    "X_train.isnull().sum()"
   ]
  },
  {
   "cell_type": "code",
   "execution_count": null,
   "metadata": {
    "colab": {},
    "colab_type": "code",
    "id": "LASPe23-MGL1"
   },
   "outputs": [],
   "source": [
    "# fig, ax = plt.subplots(nrows=1, ncols=1, figsize=(20,10))\n",
    "# ax.boxplot(X_train[columns_quant[:56]])\n",
    "# # ax[1].boxplot(X_train[columns_quant[56:111]], labels=columns_quant[56:111])\n",
    "# # ax[2].boxplot(X_train[columns_quant[111:167]], labels=columns_quant[111:167])\n",
    "# # ax[3].boxplot(X_train[columns_quant[167:]], labels=columns_quant[167:])\n",
    "# plt.xticks(rotation=90);"
   ]
  },
  {
   "cell_type": "code",
   "execution_count": null,
   "metadata": {
    "colab": {},
    "colab_type": "code",
    "id": "0pX7P3jCMGL-"
   },
   "outputs": [],
   "source": [
    "def outlierCheck(df, attr):\n",
    "    outlier_indices = []\n",
    "    outlier_values = []\n",
    "    inlier_indices = []\n",
    "    q1 = df[attr].quantile(.25)\n",
    "    q3 = df[attr].quantile(.75)\n",
    "    iqr = q3 - q1\n",
    "    \n",
    "    lower_bound = q1 - (1.5 * iqr)\n",
    "    upper_bound = q3 + (1.5 * iqr)\n",
    "    \n",
    "    for index, row in df.iterrows():\n",
    "        if row[attr] > upper_bound:\n",
    "            outlier_indices.append(index)\n",
    "            outlier_values.append(row[attr])\n",
    "        elif row[attr] < lower_bound:\n",
    "            outlier_indices.append(index)\n",
    "            outlier_values.append(row[attr])\n",
    "        else:\n",
    "            inlier_indices.append(index)\n",
    "    return inlier_indices, outlier_indices, outlier_values"
   ]
  },
  {
   "cell_type": "code",
   "execution_count": null,
   "metadata": {
    "colab": {},
    "colab_type": "code",
    "id": "WzFsR-y4MGMF"
   },
   "outputs": [],
   "source": [
    "# outliers = []\n",
    "# for feature in columns_quant:\n",
    "#     inlier, outlier, _ = outlierCheck(X_train, feature)\n",
    "#     print(\"In train_X feature {} are {} outliers\".format(feature, len(outlier)))\n",
    "# print(\"\")"
   ]
  },
  {
   "cell_type": "code",
   "execution_count": null,
   "metadata": {
    "colab": {
     "base_uri": "https://localhost:8080/",
     "height": 440
    },
    "colab_type": "code",
    "id": "Ptp2Ft1sMGMQ",
    "outputId": "7d99659d-8f6f-458c-cf20-e6157f04bb36"
   },
   "outputs": [],
   "source": [
    "# normalize quantitative features\n",
    "min_max_scaler = preprocessing.MinMaxScaler()\n",
    "X_train_scaled = X_train.copy(deep=True)\n",
    "\n",
    "for attr in columns_quant:\n",
    "    X_train_scaled[attr] = min_max_scaler.fit_transform(X_train_scaled[attr].values.reshape(-1,1))\n",
    "X_train_scaled.head()"
   ]
  },
  {
   "cell_type": "markdown",
   "metadata": {
    "colab_type": "text",
    "id": "oB0Pk_uZMGMZ"
   },
   "source": [
    "### Training Binary Classifiers"
   ]
  },
  {
   "cell_type": "markdown",
   "metadata": {
    "colab_type": "text",
    "id": "SjI_5VzVMGMb"
   },
   "source": [
    "#### Stochastic Gradient Descent classifier"
   ]
  },
  {
   "cell_type": "code",
   "execution_count": null,
   "metadata": {
    "colab": {
     "base_uri": "https://localhost:8080/",
     "height": 119
    },
    "colab_type": "code",
    "id": "-o_RuCABMGMd",
    "outputId": "3eed45b2-7fd8-430a-9c41-11291658d314"
   },
   "outputs": [],
   "source": [
    "from sklearn.linear_model import SGDClassifier\n",
    "sgd_clf = SGDClassifier(random_state=7)\n",
    "sgd_clf.fit(X_train[columns_quant], y_train)"
   ]
  },
  {
   "cell_type": "code",
   "execution_count": null,
   "metadata": {
    "colab": {
     "base_uri": "https://localhost:8080/",
     "height": 34
    },
    "colab_type": "code",
    "id": "n1qGKd3IMGMh",
    "outputId": "489df95e-8cd6-40f8-903d-03b324dd4dcd"
   },
   "outputs": [],
   "source": [
    "cross_val_score(sgd_clf, X_train[columns_quant], y_train, cv=5, scoring=\"accuracy\")"
   ]
  },
  {
   "cell_type": "code",
   "execution_count": null,
   "metadata": {
    "colab": {
     "base_uri": "https://localhost:8080/",
     "height": 51
    },
    "colab_type": "code",
    "id": "JbQOhkMDMGMo",
    "outputId": "044a6331-5164-4fe4-fc63-5a9eca55a0b1"
   },
   "outputs": [],
   "source": [
    "y_train_pred = cross_val_predict(sgd_clf, X_train[columns_quant], y_train, cv=5)\n",
    "metrics.confusion_matrix(y_train, y_train_pred)"
   ]
  },
  {
   "cell_type": "code",
   "execution_count": null,
   "metadata": {
    "colab": {
     "base_uri": "https://localhost:8080/",
     "height": 119
    },
    "colab_type": "code",
    "id": "ZkDPie4RUm-H",
    "outputId": "6f55f91f-2cdb-4aff-f6e7-e7ab79a4ae14"
   },
   "outputs": [],
   "source": [
    "from sklearn.linear_model import SGDClassifier\n",
    "sgd_clf = SGDClassifier(random_state=7)\n",
    "sgd_clf.fit(X_train_scaled[columns_quant], y_train)"
   ]
  },
  {
   "cell_type": "code",
   "execution_count": null,
   "metadata": {
    "colab": {
     "base_uri": "https://localhost:8080/",
     "height": 34
    },
    "colab_type": "code",
    "id": "_NWwKy7bUtID",
    "outputId": "1cc445c4-acff-4a51-caa2-b29dc9ed9185"
   },
   "outputs": [],
   "source": [
    "cross_val_score(sgd_clf, X_train_scaled[columns_quant], y_train, cv=5, scoring=\"accuracy\")"
   ]
  },
  {
   "cell_type": "code",
   "execution_count": null,
   "metadata": {
    "colab": {
     "base_uri": "https://localhost:8080/",
     "height": 51
    },
    "colab_type": "code",
    "id": "v2yTEGPqVkzt",
    "outputId": "a38765e5-07db-4790-f8d3-0a5feaf3024d"
   },
   "outputs": [],
   "source": [
    "log_reg = linear_model.LogisticRegressionCV(solver='lbfgs', max_iter=10000).fit(X_train_scaled[columns_quant], y_train)\n",
    "y_hat_log_reg = cross_val_predict(log_reg, X_train_scaled[columns_quant], y_train, cv=5)\n",
    "metrics.confusion_matrix(y_train, y_hat_log_reg)"
   ]
  },
  {
   "cell_type": "code",
   "execution_count": null,
   "metadata": {
    "colab": {
     "base_uri": "https://localhost:8080/",
     "height": 34
    },
    "colab_type": "code",
    "id": "ibo9sJ7FYjvP",
    "outputId": "bfacfb2c-1120-4d56-e024-c64f75959fec"
   },
   "outputs": [],
   "source": [
    "cross_val_score(log_reg, X_train_scaled[columns_quant], y_train, cv=5, scoring=\"accuracy\")"
   ]
  },
  {
   "cell_type": "code",
   "execution_count": null,
   "metadata": {
    "colab": {
     "base_uri": "https://localhost:8080/",
     "height": 34
    },
    "colab_type": "code",
    "id": "8zee08k3dZrG",
    "outputId": "449dedd3-f469-4b70-bf21-ef00daddd2ce"
   },
   "outputs": [],
   "source": [
    "tf.__version__"
   ]
  },
  {
   "cell_type": "code",
   "execution_count": null,
   "metadata": {
    "colab": {},
    "colab_type": "code",
    "id": "9flYP4ZdcFQ8"
   },
   "outputs": [],
   "source": [
    "model_01 = tf.keras.Sequential()\n",
    "model_01.add(tf.keras.layers.Dense(512, activation=tf.nn.relu, input_shape=[221]))\n",
    "model_01.add(tf.keras.layers.Dense(512, activation=tf.nn.relu))\n",
    "model_01.add(tf.keras.layers.Dense(512, activation=tf.nn.relu))\n",
    "model_01.add(tf.keras.layers.Dense(512, activation=tf.nn.relu))\n",
    "model_01.add(tf.keras.layers.Dense(512, activation=tf.nn.relu))\n",
    "model_01.add(tf.keras.layers.Dense(512, activation=tf.nn.relu))\n",
    "model_01.add(tf.keras.layers.Dense(512, activation=tf.nn.relu))\n",
    "model_01.add(tf.keras.layers.Dense(1, activation=\"sigmoid\"))"
   ]
  },
  {
   "cell_type": "markdown",
   "metadata": {
    "colab_type": "text",
    "id": "5wdOrQNzm5Pp"
   },
   "source": []
  },
  {
   "cell_type": "code",
   "execution_count": null,
   "metadata": {
    "colab": {
     "base_uri": "https://localhost:8080/",
     "height": 425
    },
    "colab_type": "code",
    "id": "Ze4jWRoMf0zI",
    "outputId": "cc768aa7-ac0e-4c3d-bf1b-b44e9f9053fb"
   },
   "outputs": [],
   "source": [
    "opt = tf.keras.optimizers.Adam(learning_rate=0.0001)\n",
    "model_01.compile(loss='binary_crossentropy',\n",
    "              optimizer=opt,\n",
    "              metrics=['accuracy'])\n",
    "model_01.summary()"
   ]
  },
  {
   "cell_type": "code",
   "execution_count": null,
   "metadata": {
    "colab": {
     "base_uri": "https://localhost:8080/",
     "height": 1000
    },
    "colab_type": "code",
    "id": "D7AR_bBBgFqO",
    "outputId": "3884ee0d-4fa4-4d77-fab0-aadb69136d0c"
   },
   "outputs": [],
   "source": [
    "model_01.fit(X_train[columns_quant], y_train, epochs=100)"
   ]
  },
  {
   "cell_type": "code",
   "execution_count": null,
   "metadata": {
    "colab": {},
    "colab_type": "code",
    "id": "lSy7ZVKWgbcF"
   },
   "outputs": [],
   "source": [
    "y_hat_model_01 = cross_val_predict(model_01, X_train_scaled[columns_quant], y_train, cv=5)\n",
    "metrics.confusion_matrix(y_train, y_hat_log_reg)"
   ]
  },
  {
   "cell_type": "code",
   "execution_count": null,
   "metadata": {
    "colab": {},
    "colab_type": "code",
    "id": "7ShuLdlJgtEr"
   },
   "outputs": [],
   "source": [
    "cross_val_score(model_01, X_train_scaled[columns_quant], y_train, cv=5, scoring=\"accuracy\")"
   ]
  }
 ],
 "metadata": {
  "accelerator": "GPU",
  "colab": {
   "name": "SH_classification.ipynb",
   "provenance": [],
   "toc_visible": true
  },
  "kernelspec": {
   "display_name": "Python 3",
   "language": "python",
   "name": "python3"
  },
  "language_info": {
   "codemirror_mode": {
    "name": "ipython",
    "version": 3
   },
   "file_extension": ".py",
   "mimetype": "text/x-python",
   "name": "python",
   "nbconvert_exporter": "python",
   "pygments_lexer": "ipython3",
   "version": "3.7.4"
  }
 },
 "nbformat": 4,
 "nbformat_minor": 1
}
