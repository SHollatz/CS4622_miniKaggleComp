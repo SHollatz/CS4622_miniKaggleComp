{
 "cells": [
  {
   "cell_type": "markdown",
   "metadata": {},
   "source": [
    "### CS4622 Mini Kaggle Competition - Multiclass Image Classification - Shallow Network - Hyperparameter Tuning\n",
    "#### Author: Sabine Hollatz"
   ]
  },
  {
   "cell_type": "code",
   "execution_count": 1,
   "metadata": {},
   "outputs": [],
   "source": [
    "import pandas as pd\n",
    "import numpy as np\n",
    "import matplotlib.pyplot as plt\n",
    "%matplotlib inline\n",
    "from sklearn.model_selection import train_test_split, RandomizedSearchCV\n",
    "# %tensorflow_version 2.x\n",
    "import tensorflow as tf\n",
    "\n",
    "import seaborn as sns"
   ]
  },
  {
   "cell_type": "code",
   "execution_count": 2,
   "metadata": {},
   "outputs": [
    {
     "name": "stdout",
     "output_type": "stream",
     "text": [
      "Number of samples: 39209, number of classes: 43\n",
      "image size: 32x32x3\n"
     ]
    }
   ],
   "source": [
    "X_train = np.load('../../data_comp4/cuboulder-image-labelling/train_and_test/X_train.npy')\n",
    "y_train = np.load('../../data_comp4/cuboulder-image-labelling/train_and_test/y_train.npy')\n",
    "X_test = np.load('../../data_comp4/cuboulder-image-labelling/train_and_test/X_test.npy')\n",
    "print(\"Number of samples: {}, number of classes: {}\".format(y_train.shape[0], y_train.shape[1]))\n",
    "print(\"image size: {}x{}x{}\".format(X_train.shape[1], X_train.shape[2], X_train.shape[3]))"
   ]
  },
  {
   "cell_type": "code",
   "execution_count": 3,
   "metadata": {},
   "outputs": [
    {
     "name": "stdout",
     "output_type": "stream",
     "text": [
      "39209\n"
     ]
    },
    {
     "data": {
      "text/plain": [
       "(39209, 3072)"
      ]
     },
     "execution_count": 3,
     "metadata": {},
     "output_type": "execute_result"
    }
   ],
   "source": [
    "num_imgs = X_train.shape[0]\n",
    "print(num_imgs)\n",
    "X_train_flattened = np.array([X_train[i].flatten() for i in range(0, num_imgs)])\n",
    "\n",
    "X_train_flattened.shape"
   ]
  },
  {
   "cell_type": "code",
   "execution_count": 4,
   "metadata": {},
   "outputs": [],
   "source": [
    "# hyperparameter tuning\n",
    "def build_model(num_hidden=1, num_neurons=30, learning_rate=3e-3, input_shape=[3072]):\n",
    "  model = tf.keras.models.Sequential()\n",
    "  model.add(tf.keras.layers.InputLayer(input_shape=input_shape))\n",
    "  for layer in range(num_hidden):\n",
    "    model.add(tf.keras.layers.Dense(num_neurons, activation=\"relu\"))\n",
    "  model.add(tf.keras.layers.Dense(43, activation=\"softmax\"))\n",
    "  optimizer = tf.keras.optimizers.Adam(lr=learning_rate, beta_1=0.9, beta_2=0.999, amsgrad=False)\n",
    "  model.compile(loss=\"categorical_crossentropy\", optimizer=optimizer, metrics=['accuracy'])\n",
    "  return model"
   ]
  },
  {
   "cell_type": "code",
   "execution_count": 5,
   "metadata": {},
   "outputs": [],
   "source": [
    "keras_cls = tf.keras.wrappers.scikit_learn.KerasClassifier(build_model)"
   ]
  },
  {
   "cell_type": "code",
   "execution_count": 6,
   "metadata": {},
   "outputs": [
    {
     "name": "stdout",
     "output_type": "stream",
     "text": [
      "13070/13070 [==============================] - 0s 38us/sample - loss: 73.5960 - accuracy: 0.0493\n",
      "13070/13070 [==============================] - 1s 38us/sample - loss: 97.2791 - accuracy: 0.0345\n",
      "13069/13069 [==============================] - 1s 40us/sample - loss: 95.9275 - accuracy: 0.0183\n",
      "13070/13070 [==============================] - 0s 28us/sample - loss: 15478.1071 - accuracy: 0.0787\n",
      "13070/13070 [==============================] - 0s 27us/sample - loss: 16811.0215 - accuracy: 0.0445\n",
      "13069/13069 [==============================] - ETA: 0s - loss: 16556.9103 - accuracy: 0.02 - 0s 27us/sample - loss: 16849.6870 - accuracy: 0.0189\n",
      "13070/13070 [==============================] - 0s 31us/sample - loss: 4.9786 - accuracy: 0.0000e+00\n",
      "13070/13070 [==============================] - 0s 31us/sample - loss: 4.7492 - accuracy: 0.0000e+00\n",
      "13069/13069 [==============================] - 0s 31us/sample - loss: 39.2895 - accuracy: 0.0071\n",
      "13070/13070 [==============================] - 1s 90us/sample - loss: 20.9734 - accuracy: 0.0000e+00\n",
      "13070/13070 [==============================] - 1s 90us/sample - loss: 21.1405 - accuracy: 0.0000e+00\n",
      "13069/13069 [==============================] - 1s 88us/sample - loss: 22.3191 - accuracy: 0.0000e+00\n",
      "13070/13070 [==============================] - 0s 30us/sample - loss: 8781.1732 - accuracy: 0.0750\n",
      "13070/13070 [==============================] - 0s 30us/sample - loss: 10555.8783 - accuracy: 0.0291\n",
      "13069/13069 [==============================] - 0s 30us/sample - loss: 9426.5295 - accuracy: 0.0187\n",
      "13070/13070 [==============================] - 1s 40us/sample - loss: 103.2428 - accuracy: 0.0601\n",
      "13070/13070 [==============================] - 1s 40us/sample - loss: 101.0620 - accuracy: 0.0249\n",
      "13069/13069 [==============================] - 1s 41us/sample - loss: 106.4030 - accuracy: 0.0182\n",
      "13070/13070 [==============================] - 1s 70us/sample - loss: 18.0647 - accuracy: 0.0000e+00\n",
      "13070/13070 [==============================] - 1s 81us/sample - loss: 17.7271 - accuracy: 0.0000e+00\n",
      "13069/13069 [==============================] - 1s 90us/sample - loss: 18.1583 - accuracy: 0.0000e+00\n",
      "13070/13070 [==============================] - 1s 101us/sample - loss: 21.5741 - accuracy: 0.0000e+00\n",
      "13070/13070 [==============================] - 2s 129us/sample - loss: 21.7239 - accuracy: 0.0000e+00\n",
      "13069/13069 [==============================] - 2s 128us/sample - loss: 22.9518 - accuracy: 0.0000e+00\n",
      "13070/13070 [==============================] - 0s 27us/sample - loss: 160068.3525 - accuracy: 0.0761\n",
      "13070/13070 [==============================] - 0s 33us/sample - loss: 170956.2937 - accuracy: 0.0455\n",
      "13069/13069 [==============================] - 0s 29us/sample - loss: 227070.5023 - accuracy: 0.0193\n",
      "13070/13070 [==============================] - 1s 107us/sample - loss: 20.8395 - accuracy: 0.0000e+00\n",
      "13070/13070 [==============================] - 1s 97us/sample - loss: 21.1324 - accuracy: 0.0000e+00\n",
      "13069/13069 [==============================] - 1s 91us/sample - loss: 22.1625 - accuracy: 0.0000e+00\n"
     ]
    },
    {
     "data": {
      "text/plain": [
       "RandomizedSearchCV(cv=3, error_score='raise-deprecating',\n",
       "                   estimator=<tensorflow.python.keras.wrappers.scikit_learn.KerasClassifier object at 0x7fcdedac1890>,\n",
       "                   iid='warn', n_iter=10, n_jobs=None,\n",
       "                   param_distributions={'learning_rate': [5e-05, 1e-05, 0.0005,\n",
       "                                                          0.0001, 0.009, 0.007,\n",
       "                                                          0.005, 0.003, 0.001,\n",
       "                                                          0.09, 0.05],\n",
       "                                        'num_hidden': [0, 1, 2, 3, 4, 5],\n",
       "                                        'num_neurons': [1, 50, 100, 150, 200,\n",
       "                                                        250, 300, 350, 400, 450,\n",
       "                                                        500]},\n",
       "                   pre_dispatch='2*n_jobs', random_state=None, refit=True,\n",
       "                   return_train_score=False, scoring=None, verbose=0)"
      ]
     },
     "execution_count": 6,
     "metadata": {},
     "output_type": "execute_result"
    }
   ],
   "source": [
    "param_distribs = {\n",
    "    'num_hidden': [0,1,2,3,4,5],\n",
    "    'num_neurons': [1, 50, 100, 150, 200, 250, 300, 350, 400, 450, 500],\n",
    "    'learning_rate': [5e-5, 1e-5, 5e-4, 1e-4, 9e-3, 7e-3, 5e-3, 3e-3, 1e-3, 9e-2, 5e-2]\n",
    "}\n",
    "\n",
    "rnd_search_cv = RandomizedSearchCV(keras_cls, param_distribs, n_iter=10, cv=3)\n",
    "rnd_search_cv.fit(X_train_flattened, y_train, epochs=40, verbose=0)"
   ]
  },
  {
   "cell_type": "code",
   "execution_count": 7,
   "metadata": {},
   "outputs": [
    {
     "name": "stdout",
     "output_type": "stream",
     "text": [
      "{'num_neurons': 200, 'num_hidden': 0, 'learning_rate': 0.005}\n",
      "0.04736157451882925\n"
     ]
    }
   ],
   "source": [
    "print(rnd_search_cv.best_params_)\n",
    "print(rnd_search_cv.best_score_)\n",
    "model = rnd_search_cv.best_estimator_.model"
   ]
  },
  {
   "cell_type": "code",
   "execution_count": 8,
   "metadata": {},
   "outputs": [],
   "source": [
    "X_train, X_val, y_train, y_val = train_test_split(X_train, y_train, test_size=0.2)"
   ]
  },
  {
   "cell_type": "code",
   "execution_count": 9,
   "metadata": {},
   "outputs": [],
   "source": [
    "train_datagen = tf.keras.preprocessing.image.ImageDataGenerator(\n",
    "    rescale=1./255,\n",
    "    data_format = \"channels_last\")\n",
    "\n",
    "val_datagen = tf.keras.preprocessing.image.ImageDataGenerator(\n",
    "    rescale=1./255,\n",
    "    data_format = \"channels_last\")"
   ]
  },
  {
   "cell_type": "code",
   "execution_count": 10,
   "metadata": {},
   "outputs": [],
   "source": [
    "model = tf.keras.models.Sequential()\n",
    "model.add(tf.keras.layers.Flatten(input_shape=(32,32,3)))\n",
    "model.add(tf.keras.layers.Dense(43, activation='softmax'))\n",
    "    \n",
    "callback = tf.keras.callbacks.EarlyStopping(monitor='categorical_accuracy', patience=5)\n",
    "\n",
    "model.compile(optimizer=tf.keras.optimizers.Adam(learning_rate=0.005, beta_1=0.9, beta_2=0.999, amsgrad=False),\n",
    "              loss='categorical_crossentropy',\n",
    "              metrics=[tf.keras.metrics.categorical_accuracy])"
   ]
  },
  {
   "cell_type": "code",
   "execution_count": 11,
   "metadata": {},
   "outputs": [
    {
     "name": "stdout",
     "output_type": "stream",
     "text": [
      "WARNING:tensorflow:sample_weight modes were coerced from\n",
      "  ...\n",
      "    to  \n",
      "  ['...']\n",
      "WARNING:tensorflow:sample_weight modes were coerced from\n",
      "  ...\n",
      "    to  \n",
      "  ['...']\n",
      "Train for 245.0546875 steps, validate for 62 steps\n",
      "Epoch 1/100\n",
      "246/245 [==============================] - 1s 5ms/step - loss: 2.1584 - categorical_accuracy: 0.5471 - val_loss: 1.3392 - val_categorical_accuracy: 0.7135\n",
      "Epoch 2/100\n",
      "246/245 [==============================] - 1s 5ms/step - loss: 1.0441 - categorical_accuracy: 0.7669 - val_loss: 0.8632 - val_categorical_accuracy: 0.8097\n",
      "Epoch 3/100\n",
      "246/245 [==============================] - 2s 6ms/step - loss: 0.7848 - categorical_accuracy: 0.8249 - val_loss: 0.8251 - val_categorical_accuracy: 0.7933\n",
      "Epoch 4/100\n",
      "246/245 [==============================] - 1s 4ms/step - loss: 0.6455 - categorical_accuracy: 0.8545 - val_loss: 0.7343 - val_categorical_accuracy: 0.8531\n",
      "Epoch 5/100\n",
      "246/245 [==============================] - 1s 4ms/step - loss: 0.5623 - categorical_accuracy: 0.8736 - val_loss: 0.5062 - val_categorical_accuracy: 0.8973\n",
      "Epoch 6/100\n",
      "246/245 [==============================] - 1s 4ms/step - loss: 0.4970 - categorical_accuracy: 0.8856 - val_loss: 0.5243 - val_categorical_accuracy: 0.8745\n",
      "Epoch 7/100\n",
      "246/245 [==============================] - 1s 6ms/step - loss: 0.4722 - categorical_accuracy: 0.8916 - val_loss: 0.5124 - val_categorical_accuracy: 0.8761\n",
      "Epoch 8/100\n",
      "246/245 [==============================] - 1s 4ms/step - loss: 0.4304 - categorical_accuracy: 0.8998 - val_loss: 0.5614 - val_categorical_accuracy: 0.8806\n",
      "Epoch 9/100\n",
      "246/245 [==============================] - 1s 5ms/step - loss: 0.4008 - categorical_accuracy: 0.9076 - val_loss: 0.4325 - val_categorical_accuracy: 0.8975\n",
      "Epoch 10/100\n",
      "246/245 [==============================] - 1s 5ms/step - loss: 0.3749 - categorical_accuracy: 0.9116 - val_loss: 0.4332 - val_categorical_accuracy: 0.8995\n",
      "Epoch 11/100\n",
      "246/245 [==============================] - 1s 6ms/step - loss: 0.4018 - categorical_accuracy: 0.9036 - val_loss: 0.5576 - val_categorical_accuracy: 0.8808\n",
      "Epoch 12/100\n",
      "246/245 [==============================] - 1s 4ms/step - loss: 0.3906 - categorical_accuracy: 0.9049 - val_loss: 0.4229 - val_categorical_accuracy: 0.9068\n",
      "Epoch 13/100\n",
      "246/245 [==============================] - 1s 5ms/step - loss: 0.3217 - categorical_accuracy: 0.9232 - val_loss: 0.3485 - val_categorical_accuracy: 0.9172\n",
      "Epoch 14/100\n",
      "246/245 [==============================] - 1s 5ms/step - loss: 0.3232 - categorical_accuracy: 0.9224 - val_loss: 0.3199 - val_categorical_accuracy: 0.9245\n",
      "Epoch 15/100\n",
      "246/245 [==============================] - 1s 6ms/step - loss: 0.3141 - categorical_accuracy: 0.9226 - val_loss: 0.4645 - val_categorical_accuracy: 0.8869\n",
      "Epoch 16/100\n",
      "246/245 [==============================] - 1s 4ms/step - loss: 0.3076 - categorical_accuracy: 0.9256 - val_loss: 0.4664 - val_categorical_accuracy: 0.8829\n",
      "Epoch 17/100\n",
      "246/245 [==============================] - 1s 4ms/step - loss: 0.3069 - categorical_accuracy: 0.9253 - val_loss: 0.4540 - val_categorical_accuracy: 0.9049\n",
      "Epoch 18/100\n",
      "246/245 [==============================] - 1s 5ms/step - loss: 0.2991 - categorical_accuracy: 0.9295 - val_loss: 0.3736 - val_categorical_accuracy: 0.9102\n",
      "Epoch 19/100\n",
      "246/245 [==============================] - 1s 5ms/step - loss: 0.2793 - categorical_accuracy: 0.9326 - val_loss: 0.4786 - val_categorical_accuracy: 0.8922\n",
      "Epoch 20/100\n",
      "246/245 [==============================] - 1s 5ms/step - loss: 0.2733 - categorical_accuracy: 0.9319 - val_loss: 0.3958 - val_categorical_accuracy: 0.9014\n",
      "Epoch 21/100\n",
      "246/245 [==============================] - 1s 5ms/step - loss: 0.2594 - categorical_accuracy: 0.9356 - val_loss: 0.3145 - val_categorical_accuracy: 0.9302\n",
      "Epoch 22/100\n",
      "246/245 [==============================] - 1s 5ms/step - loss: 0.2876 - categorical_accuracy: 0.9306 - val_loss: 0.4569 - val_categorical_accuracy: 0.9028\n",
      "Epoch 23/100\n",
      "246/245 [==============================] - 1s 5ms/step - loss: 0.2805 - categorical_accuracy: 0.9349 - val_loss: 0.3332 - val_categorical_accuracy: 0.9221\n",
      "Epoch 24/100\n",
      "246/245 [==============================] - 1s 5ms/step - loss: 0.2346 - categorical_accuracy: 0.9454 - val_loss: 0.2908 - val_categorical_accuracy: 0.9328\n",
      "Epoch 25/100\n",
      "246/245 [==============================] - 1s 5ms/step - loss: 0.2525 - categorical_accuracy: 0.9392 - val_loss: 0.3938 - val_categorical_accuracy: 0.9183\n",
      "Epoch 26/100\n",
      "246/245 [==============================] - 1s 6ms/step - loss: 0.2557 - categorical_accuracy: 0.9385 - val_loss: 0.2920 - val_categorical_accuracy: 0.9317\n",
      "Epoch 27/100\n",
      "246/245 [==============================] - 1s 5ms/step - loss: 0.2549 - categorical_accuracy: 0.9408 - val_loss: 0.5170 - val_categorical_accuracy: 0.8993\n",
      "Epoch 28/100\n",
      "246/245 [==============================] - 1s 6ms/step - loss: 0.2332 - categorical_accuracy: 0.9426 - val_loss: 0.5235 - val_categorical_accuracy: 0.9023\n",
      "Epoch 29/100\n",
      "246/245 [==============================] - 1s 5ms/step - loss: 0.2479 - categorical_accuracy: 0.9401 - val_loss: 0.3103 - val_categorical_accuracy: 0.9315\n"
     ]
    }
   ],
   "source": [
    "epochs = 100\n",
    "batchsize = 128\n",
    "history = model.fit(train_datagen.flow(X_train, y_train, batch_size=batchsize), \n",
    "                    validation_data=val_datagen.flow(X_val, y_val, batch_size=batchsize),\n",
    "                    steps_per_epoch=len(X_train) / batchsize,\n",
    "                    shuffle=True,\n",
    "                    callbacks=[callback],\n",
    "                    epochs=epochs)"
   ]
  },
  {
   "cell_type": "code",
   "execution_count": 12,
   "metadata": {},
   "outputs": [
    {
     "data": {
      "image/png": "[encoded data removed]",
      "text/plain": [
       "<Figure size 432x288 with 1 Axes>"
      ]
     },
     "metadata": {
      "needs_background": "light"
     },
     "output_type": "display_data"
    },
    {
     "data": {
      "image/png": "[encoded data removed]",
      "text/plain": [
       "<Figure size 432x288 with 1 Axes>"
      ]
     },
     "metadata": {
      "needs_background": "light"
     },
     "output_type": "display_data"
    }
   ],
   "source": [
    "# Plot training & validation loss values\n",
    "plt.plot(history.history['loss'])\n",
    "plt.plot(history.history['val_loss'])\n",
    "plt.title('Model loss')\n",
    "plt.ylabel('Loss')\n",
    "plt.xlabel('Epoch')\n",
    "plt.legend(['Train', 'Validation'], loc='upper left')\n",
    "plt.show()\n",
    "\n",
    "plt.plot(history.history['categorical_accuracy'])\n",
    "plt.plot(history.history['val_categorical_accuracy'])\n",
    "plt.title('Model categorical_accuracy')\n",
    "plt.ylabel('Categorical Accuracy')\n",
    "plt.xlabel('Epoch')\n",
    "plt.legend(['Train', 'Validation'], loc='upper left')\n",
    "plt.show()"
   ]
  },
  {
   "cell_type": "code",
   "execution_count": 13,
   "metadata": {},
   "outputs": [],
   "source": [
    "predictions = model.predict(X_test)"
   ]
  },
  {
   "cell_type": "code",
   "execution_count": 14,
   "metadata": {},
   "outputs": [],
   "source": [
    "preds_to_submit = pd.DataFrame(predictions.astype('int'))"
   ]
  },
  {
   "cell_type": "code",
   "execution_count": 15,
   "metadata": {},
   "outputs": [],
   "source": [
    "preds_to_submit.to_csv(\"./shallow_network_predictions_hyperparameter_tuning.csv\")"
   ]
  },
  {
   "cell_type": "code",
   "execution_count": 16,
   "metadata": {},
   "outputs": [],
   "source": [
    "model2 = tf.keras.models.Sequential()\n",
    "model2.add(tf.keras.layers.Flatten(input_shape=(32,32,3)))\n",
    "model2.add(tf.keras.layers.Dense(43, activation='softmax'))\n",
    "    \n",
    "callback = tf.keras.callbacks.EarlyStopping(monitor='categorical_accuracy', patience=5)\n",
    "\n",
    "model2.compile(optimizer=tf.keras.optimizers.Adam(learning_rate=0.0001, beta_1=0.9, beta_2=0.999, amsgrad=False),\n",
    "              loss='categorical_crossentropy',\n",
    "              metrics=[tf.keras.metrics.categorical_accuracy])"
   ]
  },
  {
   "cell_type": "code",
   "execution_count": 17,
   "metadata": {
    "scrolled": false
   },
   "outputs": [
    {
     "name": "stdout",
     "output_type": "stream",
     "text": [
      "WARNING:tensorflow:sample_weight modes were coerced from\n",
      "  ...\n",
      "    to  \n",
      "  ['...']\n",
      "WARNING:tensorflow:sample_weight modes were coerced from\n",
      "  ...\n",
      "    to  \n",
      "  ['...']\n",
      "Train for 245.0546875 steps, validate for 62 steps\n",
      "Epoch 1/100\n",
      "246/245 [==============================] - 1s 5ms/step - loss: 3.2091 - categorical_accuracy: 0.2186 - val_loss: 2.8951 - val_categorical_accuracy: 0.3352\n",
      "Epoch 2/100\n",
      "246/245 [==============================] - 1s 4ms/step - loss: 2.6860 - categorical_accuracy: 0.4189 - val_loss: 2.5085 - val_categorical_accuracy: 0.4705\n",
      "Epoch 3/100\n",
      "246/245 [==============================] - 2s 6ms/step - loss: 2.3710 - categorical_accuracy: 0.5095 - val_loss: 2.2526 - val_categorical_accuracy: 0.5325\n",
      "Epoch 4/100\n",
      "246/245 [==============================] - 1s 4ms/step - loss: 2.1506 - categorical_accuracy: 0.5702 - val_loss: 2.0605 - val_categorical_accuracy: 0.5997\n",
      "Epoch 5/100\n",
      "246/245 [==============================] - 1s 4ms/step - loss: 1.9822 - categorical_accuracy: 0.6193 - val_loss: 1.9185 - val_categorical_accuracy: 0.6350\n",
      "Epoch 6/100\n",
      "246/245 [==============================] - 1s 4ms/step - loss: 1.8491 - categorical_accuracy: 0.6507 - val_loss: 1.8003 - val_categorical_accuracy: 0.6770\n",
      "Epoch 7/100\n",
      "246/245 [==============================] - 1s 4ms/step - loss: 1.7364 - categorical_accuracy: 0.6803 - val_loss: 1.6991 - val_categorical_accuracy: 0.6903\n",
      "Epoch 8/100\n",
      "246/245 [==============================] - 1s 6ms/step - loss: 1.6428 - categorical_accuracy: 0.7040 - val_loss: 1.6138 - val_categorical_accuracy: 0.7070\n",
      "Epoch 9/100\n",
      "246/245 [==============================] - 1s 4ms/step - loss: 1.5605 - categorical_accuracy: 0.7196 - val_loss: 1.5421 - val_categorical_accuracy: 0.7226\n",
      "Epoch 10/100\n",
      "246/245 [==============================] - 1s 5ms/step - loss: 1.4888 - categorical_accuracy: 0.7374 - val_loss: 1.4732 - val_categorical_accuracy: 0.7360\n",
      "Epoch 11/100\n",
      "246/245 [==============================] - 1s 5ms/step - loss: 1.4238 - categorical_accuracy: 0.7515 - val_loss: 1.4136 - val_categorical_accuracy: 0.7539\n",
      "Epoch 12/100\n",
      "246/245 [==============================] - 1s 5ms/step - loss: 1.3664 - categorical_accuracy: 0.7670 - val_loss: 1.3639 - val_categorical_accuracy: 0.7535\n",
      "Epoch 13/100\n",
      "246/245 [==============================] - 1s 5ms/step - loss: 1.3141 - categorical_accuracy: 0.7757 - val_loss: 1.3145 - val_categorical_accuracy: 0.7712\n",
      "Epoch 14/100\n",
      "246/245 [==============================] - 1s 5ms/step - loss: 1.2672 - categorical_accuracy: 0.7871 - val_loss: 1.2712 - val_categorical_accuracy: 0.7716\n",
      "Epoch 15/100\n",
      "246/245 [==============================] - 1s 5ms/step - loss: 1.2242 - categorical_accuracy: 0.7954 - val_loss: 1.2292 - val_categorical_accuracy: 0.7840\n",
      "Epoch 16/100\n",
      "246/245 [==============================] - 1s 5ms/step - loss: 1.1837 - categorical_accuracy: 0.8025 - val_loss: 1.1943 - val_categorical_accuracy: 0.7911\n",
      "Epoch 17/100\n",
      "246/245 [==============================] - 1s 5ms/step - loss: 1.1465 - categorical_accuracy: 0.8115 - val_loss: 1.1575 - val_categorical_accuracy: 0.8012\n",
      "Epoch 18/100\n",
      "246/245 [==============================] - 1s 5ms/step - loss: 1.1118 - categorical_accuracy: 0.8162 - val_loss: 1.1274 - val_categorical_accuracy: 0.8072\n",
      "Epoch 19/100\n",
      "246/245 [==============================] - 1s 5ms/step - loss: 1.0808 - categorical_accuracy: 0.8212 - val_loss: 1.0920 - val_categorical_accuracy: 0.8192\n",
      "Epoch 20/100\n",
      "246/245 [==============================] - 1s 4ms/step - loss: 1.0504 - categorical_accuracy: 0.8306 - val_loss: 1.0664 - val_categorical_accuracy: 0.8168\n",
      "Epoch 21/100\n",
      "246/245 [==============================] - 1s 5ms/step - loss: 1.0223 - categorical_accuracy: 0.8343 - val_loss: 1.0400 - val_categorical_accuracy: 0.8239\n",
      "Epoch 22/100\n",
      "246/245 [==============================] - 1s 5ms/step - loss: 0.9961 - categorical_accuracy: 0.8397 - val_loss: 1.0135 - val_categorical_accuracy: 0.8327\n",
      "Epoch 23/100\n",
      "246/245 [==============================] - 1s 5ms/step - loss: 0.9709 - categorical_accuracy: 0.8447 - val_loss: 0.9928 - val_categorical_accuracy: 0.8331\n",
      "Epoch 24/100\n",
      "246/245 [==============================] - 2s 8ms/step - loss: 0.9481 - categorical_accuracy: 0.8485 - val_loss: 0.9687 - val_categorical_accuracy: 0.8382\n",
      "Epoch 25/100\n",
      "246/245 [==============================] - 2s 7ms/step - loss: 0.9253 - categorical_accuracy: 0.8544 - val_loss: 0.9463 - val_categorical_accuracy: 0.8416\n",
      "Epoch 26/100\n",
      "246/245 [==============================] - 2s 8ms/step - loss: 0.9049 - categorical_accuracy: 0.8578 - val_loss: 0.9276 - val_categorical_accuracy: 0.8442\n",
      "Epoch 27/100\n",
      "246/245 [==============================] - 2s 7ms/step - loss: 0.8850 - categorical_accuracy: 0.8599 - val_loss: 0.9104 - val_categorical_accuracy: 0.8477\n",
      "Epoch 28/100\n",
      "246/245 [==============================] - 1s 5ms/step - loss: 0.8654 - categorical_accuracy: 0.8656 - val_loss: 0.8903 - val_categorical_accuracy: 0.8550\n",
      "Epoch 29/100\n",
      "246/245 [==============================] - 1s 5ms/step - loss: 0.8477 - categorical_accuracy: 0.8695 - val_loss: 0.8743 - val_categorical_accuracy: 0.8517\n",
      "Epoch 30/100\n",
      "246/245 [==============================] - 1s 4ms/step - loss: 0.8309 - categorical_accuracy: 0.8695 - val_loss: 0.8595 - val_categorical_accuracy: 0.8545\n",
      "Epoch 31/100\n",
      "246/245 [==============================] - 1s 6ms/step - loss: 0.8147 - categorical_accuracy: 0.8729 - val_loss: 0.8415 - val_categorical_accuracy: 0.8583\n",
      "Epoch 32/100\n",
      "246/245 [==============================] - 2s 8ms/step - loss: 0.7985 - categorical_accuracy: 0.8767 - val_loss: 0.8303 - val_categorical_accuracy: 0.8619\n",
      "Epoch 33/100\n",
      "246/245 [==============================] - 2s 7ms/step - loss: 0.7841 - categorical_accuracy: 0.8799 - val_loss: 0.8138 - val_categorical_accuracy: 0.8675\n",
      "Epoch 34/100\n",
      "246/245 [==============================] - 1s 5ms/step - loss: 0.7703 - categorical_accuracy: 0.8812 - val_loss: 0.7997 - val_categorical_accuracy: 0.8679\n",
      "Epoch 35/100\n",
      "246/245 [==============================] - 1s 5ms/step - loss: 0.7562 - categorical_accuracy: 0.8836 - val_loss: 0.7881 - val_categorical_accuracy: 0.8656\n",
      "Epoch 36/100\n",
      "246/245 [==============================] - 2s 6ms/step - loss: 0.7425 - categorical_accuracy: 0.8864 - val_loss: 0.7730 - val_categorical_accuracy: 0.8736\n",
      "Epoch 37/100\n",
      "246/245 [==============================] - 1s 5ms/step - loss: 0.7303 - categorical_accuracy: 0.8888 - val_loss: 0.7612 - val_categorical_accuracy: 0.8730\n",
      "Epoch 38/100\n",
      "246/245 [==============================] - 1s 6ms/step - loss: 0.7186 - categorical_accuracy: 0.8914 - val_loss: 0.7528 - val_categorical_accuracy: 0.8729\n",
      "Epoch 39/100\n",
      "246/245 [==============================] - 1s 5ms/step - loss: 0.7067 - categorical_accuracy: 0.8927 - val_loss: 0.7387 - val_categorical_accuracy: 0.8814\n",
      "Epoch 40/100\n",
      "246/245 [==============================] - 2s 6ms/step - loss: 0.6954 - categorical_accuracy: 0.8939 - val_loss: 0.7308 - val_categorical_accuracy: 0.8778\n",
      "Epoch 41/100\n",
      "246/245 [==============================] - 2s 6ms/step - loss: 0.6851 - categorical_accuracy: 0.8954 - val_loss: 0.7156 - val_categorical_accuracy: 0.8827\n",
      "Epoch 42/100\n",
      "246/245 [==============================] - 1s 6ms/step - loss: 0.6747 - categorical_accuracy: 0.8980 - val_loss: 0.7087 - val_categorical_accuracy: 0.8849\n",
      "Epoch 43/100\n",
      "246/245 [==============================] - 1s 6ms/step - loss: 0.6649 - categorical_accuracy: 0.8996 - val_loss: 0.6968 - val_categorical_accuracy: 0.8878\n",
      "Epoch 44/100\n",
      "246/245 [==============================] - 1s 6ms/step - loss: 0.6549 - categorical_accuracy: 0.9008 - val_loss: 0.6902 - val_categorical_accuracy: 0.8870\n",
      "Epoch 45/100\n",
      "246/245 [==============================] - 1s 5ms/step - loss: 0.6448 - categorical_accuracy: 0.9031 - val_loss: 0.6788 - val_categorical_accuracy: 0.8875\n",
      "Epoch 46/100\n",
      "246/245 [==============================] - 1s 5ms/step - loss: 0.6368 - categorical_accuracy: 0.9041 - val_loss: 0.6710 - val_categorical_accuracy: 0.8888\n",
      "Epoch 47/100\n",
      "246/245 [==============================] - 1s 6ms/step - loss: 0.6278 - categorical_accuracy: 0.9056 - val_loss: 0.6635 - val_categorical_accuracy: 0.8898\n",
      "Epoch 48/100\n"
     ]
    },
    {
     "name": "stdout",
     "output_type": "stream",
     "text": [
      "246/245 [==============================] - 1s 4ms/step - loss: 0.6194 - categorical_accuracy: 0.9066 - val_loss: 0.6563 - val_categorical_accuracy: 0.8931\n",
      "Epoch 49/100\n",
      "246/245 [==============================] - 1s 5ms/step - loss: 0.6117 - categorical_accuracy: 0.9067 - val_loss: 0.6459 - val_categorical_accuracy: 0.8928\n",
      "Epoch 50/100\n",
      "246/245 [==============================] - 1s 5ms/step - loss: 0.6030 - categorical_accuracy: 0.9093 - val_loss: 0.6423 - val_categorical_accuracy: 0.8944\n",
      "Epoch 51/100\n",
      "246/245 [==============================] - 1s 5ms/step - loss: 0.5955 - categorical_accuracy: 0.9109 - val_loss: 0.6342 - val_categorical_accuracy: 0.8961\n",
      "Epoch 52/100\n",
      "246/245 [==============================] - 1s 5ms/step - loss: 0.5880 - categorical_accuracy: 0.9114 - val_loss: 0.6271 - val_categorical_accuracy: 0.8965\n",
      "Epoch 53/100\n",
      "246/245 [==============================] - 1s 6ms/step - loss: 0.5813 - categorical_accuracy: 0.9126 - val_loss: 0.6198 - val_categorical_accuracy: 0.8968\n",
      "Epoch 54/100\n",
      "246/245 [==============================] - 1s 6ms/step - loss: 0.5736 - categorical_accuracy: 0.9131 - val_loss: 0.6125 - val_categorical_accuracy: 0.8973\n",
      "Epoch 55/100\n",
      "246/245 [==============================] - 1s 5ms/step - loss: 0.5668 - categorical_accuracy: 0.9146 - val_loss: 0.6059 - val_categorical_accuracy: 0.9008\n",
      "Epoch 56/100\n",
      "246/245 [==============================] - 1s 5ms/step - loss: 0.5604 - categorical_accuracy: 0.9160 - val_loss: 0.5993 - val_categorical_accuracy: 0.8971\n",
      "Epoch 57/100\n",
      "246/245 [==============================] - 1s 5ms/step - loss: 0.5539 - categorical_accuracy: 0.9167 - val_loss: 0.5914 - val_categorical_accuracy: 0.9012\n",
      "Epoch 58/100\n",
      "246/245 [==============================] - 1s 5ms/step - loss: 0.5476 - categorical_accuracy: 0.9171 - val_loss: 0.5875 - val_categorical_accuracy: 0.9013\n",
      "Epoch 59/100\n",
      "246/245 [==============================] - 1s 6ms/step - loss: 0.5413 - categorical_accuracy: 0.9185 - val_loss: 0.5794 - val_categorical_accuracy: 0.9035\n",
      "Epoch 60/100\n",
      "246/245 [==============================] - 2s 6ms/step - loss: 0.5354 - categorical_accuracy: 0.9191 - val_loss: 0.5763 - val_categorical_accuracy: 0.9036\n",
      "Epoch 61/100\n",
      "246/245 [==============================] - 1s 4ms/step - loss: 0.5299 - categorical_accuracy: 0.9199 - val_loss: 0.5705 - val_categorical_accuracy: 0.9072\n",
      "Epoch 62/100\n",
      "246/245 [==============================] - 1s 5ms/step - loss: 0.5239 - categorical_accuracy: 0.9207 - val_loss: 0.5623 - val_categorical_accuracy: 0.9054\n",
      "Epoch 63/100\n",
      "246/245 [==============================] - 1s 5ms/step - loss: 0.5189 - categorical_accuracy: 0.9210 - val_loss: 0.5603 - val_categorical_accuracy: 0.9049\n",
      "Epoch 64/100\n",
      "246/245 [==============================] - 1s 5ms/step - loss: 0.5136 - categorical_accuracy: 0.9220 - val_loss: 0.5552 - val_categorical_accuracy: 0.9067\n",
      "Epoch 65/100\n",
      "246/245 [==============================] - 1s 4ms/step - loss: 0.5076 - categorical_accuracy: 0.9232 - val_loss: 0.5489 - val_categorical_accuracy: 0.9101\n",
      "Epoch 66/100\n",
      "246/245 [==============================] - 1s 4ms/step - loss: 0.5024 - categorical_accuracy: 0.9241 - val_loss: 0.5463 - val_categorical_accuracy: 0.9078\n",
      "Epoch 67/100\n",
      "246/245 [==============================] - 1s 4ms/step - loss: 0.4979 - categorical_accuracy: 0.9247 - val_loss: 0.5398 - val_categorical_accuracy: 0.9074\n",
      "Epoch 68/100\n",
      "246/245 [==============================] - 1s 4ms/step - loss: 0.4933 - categorical_accuracy: 0.9254 - val_loss: 0.5356 - val_categorical_accuracy: 0.9083\n",
      "Epoch 69/100\n",
      "246/245 [==============================] - 1s 4ms/step - loss: 0.4884 - categorical_accuracy: 0.9259 - val_loss: 0.5318 - val_categorical_accuracy: 0.9112\n",
      "Epoch 70/100\n",
      "246/245 [==============================] - 1s 4ms/step - loss: 0.4837 - categorical_accuracy: 0.9267 - val_loss: 0.5249 - val_categorical_accuracy: 0.9120\n",
      "Epoch 71/100\n",
      "246/245 [==============================] - 1s 5ms/step - loss: 0.4790 - categorical_accuracy: 0.9281 - val_loss: 0.5212 - val_categorical_accuracy: 0.9118\n",
      "Epoch 72/100\n",
      "246/245 [==============================] - 1s 6ms/step - loss: 0.4744 - categorical_accuracy: 0.9283 - val_loss: 0.5166 - val_categorical_accuracy: 0.9120\n",
      "Epoch 73/100\n",
      "246/245 [==============================] - 1s 6ms/step - loss: 0.4702 - categorical_accuracy: 0.9289 - val_loss: 0.5135 - val_categorical_accuracy: 0.9135\n",
      "Epoch 74/100\n",
      "246/245 [==============================] - 2s 6ms/step - loss: 0.4654 - categorical_accuracy: 0.9294 - val_loss: 0.5107 - val_categorical_accuracy: 0.9134\n",
      "Epoch 75/100\n",
      "246/245 [==============================] - 1s 4ms/step - loss: 0.4617 - categorical_accuracy: 0.9302 - val_loss: 0.5055 - val_categorical_accuracy: 0.9144\n",
      "Epoch 76/100\n",
      "246/245 [==============================] - 2s 7ms/step - loss: 0.4581 - categorical_accuracy: 0.9301 - val_loss: 0.5027 - val_categorical_accuracy: 0.9120\n",
      "Epoch 77/100\n",
      "246/245 [==============================] - 1s 6ms/step - loss: 0.4540 - categorical_accuracy: 0.9312 - val_loss: 0.4995 - val_categorical_accuracy: 0.9152\n",
      "Epoch 78/100\n",
      "246/245 [==============================] - 1s 5ms/step - loss: 0.4497 - categorical_accuracy: 0.9315 - val_loss: 0.4951 - val_categorical_accuracy: 0.9128\n",
      "Epoch 79/100\n",
      "246/245 [==============================] - 1s 5ms/step - loss: 0.4462 - categorical_accuracy: 0.9315 - val_loss: 0.4917 - val_categorical_accuracy: 0.9174\n",
      "Epoch 80/100\n",
      "246/245 [==============================] - 1s 5ms/step - loss: 0.4420 - categorical_accuracy: 0.9325 - val_loss: 0.4897 - val_categorical_accuracy: 0.9134\n",
      "Epoch 81/100\n",
      "246/245 [==============================] - 1s 6ms/step - loss: 0.4390 - categorical_accuracy: 0.9322 - val_loss: 0.4862 - val_categorical_accuracy: 0.9153\n",
      "Epoch 82/100\n",
      "246/245 [==============================] - 1s 5ms/step - loss: 0.4350 - categorical_accuracy: 0.9335 - val_loss: 0.4822 - val_categorical_accuracy: 0.9179\n",
      "Epoch 83/100\n",
      "246/245 [==============================] - 1s 6ms/step - loss: 0.4312 - categorical_accuracy: 0.9338 - val_loss: 0.4787 - val_categorical_accuracy: 0.9158\n",
      "Epoch 84/100\n",
      "246/245 [==============================] - 1s 5ms/step - loss: 0.4280 - categorical_accuracy: 0.9343 - val_loss: 0.4741 - val_categorical_accuracy: 0.9170\n",
      "Epoch 85/100\n",
      "246/245 [==============================] - 1s 6ms/step - loss: 0.4246 - categorical_accuracy: 0.9348 - val_loss: 0.4709 - val_categorical_accuracy: 0.9179\n",
      "Epoch 86/100\n",
      "246/245 [==============================] - 1s 5ms/step - loss: 0.4212 - categorical_accuracy: 0.9351 - val_loss: 0.4663 - val_categorical_accuracy: 0.9199\n",
      "Epoch 87/100\n",
      "246/245 [==============================] - 2s 6ms/step - loss: 0.4178 - categorical_accuracy: 0.9358 - val_loss: 0.4638 - val_categorical_accuracy: 0.9204\n",
      "Epoch 88/100\n",
      "246/245 [==============================] - 1s 6ms/step - loss: 0.4146 - categorical_accuracy: 0.9362 - val_loss: 0.4616 - val_categorical_accuracy: 0.9198\n",
      "Epoch 89/100\n",
      "246/245 [==============================] - 1s 5ms/step - loss: 0.4118 - categorical_accuracy: 0.9363 - val_loss: 0.4603 - val_categorical_accuracy: 0.9207\n",
      "Epoch 90/100\n",
      "246/245 [==============================] - 1s 6ms/step - loss: 0.4087 - categorical_accuracy: 0.9373 - val_loss: 0.4563 - val_categorical_accuracy: 0.9204\n",
      "Epoch 91/100\n",
      "246/245 [==============================] - 1s 4ms/step - loss: 0.4052 - categorical_accuracy: 0.9375 - val_loss: 0.4534 - val_categorical_accuracy: 0.9209\n",
      "Epoch 92/100\n",
      "246/245 [==============================] - 1s 4ms/step - loss: 0.4025 - categorical_accuracy: 0.9375 - val_loss: 0.4509 - val_categorical_accuracy: 0.9221\n",
      "Epoch 93/100\n",
      "246/245 [==============================] - 1s 5ms/step - loss: 0.3997 - categorical_accuracy: 0.9384 - val_loss: 0.4506 - val_categorical_accuracy: 0.9184\n",
      "Epoch 94/100\n",
      "246/245 [==============================] - 1s 6ms/step - loss: 0.3967 - categorical_accuracy: 0.9387 - val_loss: 0.4441 - val_categorical_accuracy: 0.9218\n",
      "Epoch 95/100\n",
      "246/245 [==============================] - 2s 6ms/step - loss: 0.3940 - categorical_accuracy: 0.9395 - val_loss: 0.4432 - val_categorical_accuracy: 0.9217\n",
      "Epoch 96/100\n",
      "246/245 [==============================] - 1s 6ms/step - loss: 0.3909 - categorical_accuracy: 0.9398 - val_loss: 0.4385 - val_categorical_accuracy: 0.9244\n"
     ]
    },
    {
     "name": "stdout",
     "output_type": "stream",
     "text": [
      "Epoch 97/100\n",
      "246/245 [==============================] - 1s 5ms/step - loss: 0.3878 - categorical_accuracy: 0.9402 - val_loss: 0.4363 - val_categorical_accuracy: 0.9241\n",
      "Epoch 98/100\n",
      "246/245 [==============================] - 1s 6ms/step - loss: 0.3857 - categorical_accuracy: 0.9398 - val_loss: 0.4351 - val_categorical_accuracy: 0.9241\n",
      "Epoch 99/100\n",
      "246/245 [==============================] - 2s 6ms/step - loss: 0.3828 - categorical_accuracy: 0.9402 - val_loss: 0.4340 - val_categorical_accuracy: 0.9217\n",
      "Epoch 100/100\n",
      "246/245 [==============================] - 1s 5ms/step - loss: 0.3804 - categorical_accuracy: 0.9414 - val_loss: 0.4293 - val_categorical_accuracy: 0.9236\n"
     ]
    }
   ],
   "source": [
    "epochs = 100\n",
    "batchsize = 128\n",
    "history = model2.fit(train_datagen.flow(X_train, y_train, batch_size=batchsize), \n",
    "                    validation_data=val_datagen.flow(X_val, y_val, batch_size=batchsize),\n",
    "                    steps_per_epoch=len(X_train) / batchsize,\n",
    "                    shuffle=True,\n",
    "                    callbacks=[callback],\n",
    "                    epochs=epochs)"
   ]
  },
  {
   "cell_type": "code",
   "execution_count": 18,
   "metadata": {},
   "outputs": [
    {
     "name": "stdout",
     "output_type": "stream",
     "text": [
      "WARNING:tensorflow:sample_weight modes were coerced from\n",
      "  ...\n",
      "    to  \n",
      "  ['...']\n",
      "WARNING:tensorflow:sample_weight modes were coerced from\n",
      "  ...\n",
      "    to  \n",
      "  ['...']\n",
      "Train for 245.0546875 steps, validate for 62 steps\n",
      "Epoch 1/100\n",
      "246/245 [==============================] - 1s 4ms/step - loss: 0.3773 - categorical_accuracy: 0.9416 - val_loss: 0.4274 - val_categorical_accuracy: 0.9240\n",
      "Epoch 2/100\n",
      "246/245 [==============================] - 1s 5ms/step - loss: 0.3744 - categorical_accuracy: 0.9416 - val_loss: 0.4248 - val_categorical_accuracy: 0.9253\n",
      "Epoch 3/100\n",
      "246/245 [==============================] - 1s 6ms/step - loss: 0.3718 - categorical_accuracy: 0.9421 - val_loss: 0.4229 - val_categorical_accuracy: 0.9253\n",
      "Epoch 4/100\n",
      "246/245 [==============================] - 1s 5ms/step - loss: 0.3696 - categorical_accuracy: 0.9429 - val_loss: 0.4196 - val_categorical_accuracy: 0.9250\n",
      "Epoch 5/100\n",
      "246/245 [==============================] - 1s 4ms/step - loss: 0.3670 - categorical_accuracy: 0.9433 - val_loss: 0.4201 - val_categorical_accuracy: 0.9235\n",
      "Epoch 6/100\n",
      "246/245 [==============================] - 1s 5ms/step - loss: 0.3649 - categorical_accuracy: 0.9430 - val_loss: 0.4187 - val_categorical_accuracy: 0.9244\n",
      "Epoch 7/100\n",
      "246/245 [==============================] - 1s 4ms/step - loss: 0.3628 - categorical_accuracy: 0.9435 - val_loss: 0.4140 - val_categorical_accuracy: 0.9258\n",
      "Epoch 8/100\n",
      "246/245 [==============================] - 1s 5ms/step - loss: 0.3600 - categorical_accuracy: 0.9439 - val_loss: 0.4121 - val_categorical_accuracy: 0.9260\n",
      "Epoch 9/100\n",
      "246/245 [==============================] - 1s 5ms/step - loss: 0.3576 - categorical_accuracy: 0.9443 - val_loss: 0.4091 - val_categorical_accuracy: 0.9274\n",
      "Epoch 10/100\n",
      "246/245 [==============================] - 1s 4ms/step - loss: 0.3555 - categorical_accuracy: 0.9438 - val_loss: 0.4075 - val_categorical_accuracy: 0.9264\n",
      "Epoch 11/100\n",
      "246/245 [==============================] - 1s 5ms/step - loss: 0.3536 - categorical_accuracy: 0.9446 - val_loss: 0.4051 - val_categorical_accuracy: 0.9276\n",
      "Epoch 12/100\n",
      "246/245 [==============================] - 1s 5ms/step - loss: 0.3509 - categorical_accuracy: 0.9456 - val_loss: 0.4048 - val_categorical_accuracy: 0.9283\n",
      "Epoch 13/100\n",
      "246/245 [==============================] - 1s 4ms/step - loss: 0.3490 - categorical_accuracy: 0.9462 - val_loss: 0.4022 - val_categorical_accuracy: 0.9280\n",
      "Epoch 14/100\n",
      "246/245 [==============================] - 1s 4ms/step - loss: 0.3468 - categorical_accuracy: 0.9456 - val_loss: 0.4006 - val_categorical_accuracy: 0.9287\n",
      "Epoch 15/100\n",
      "246/245 [==============================] - 1s 4ms/step - loss: 0.3450 - categorical_accuracy: 0.9460 - val_loss: 0.3989 - val_categorical_accuracy: 0.9262\n",
      "Epoch 16/100\n",
      "246/245 [==============================] - 1s 6ms/step - loss: 0.3425 - categorical_accuracy: 0.9463 - val_loss: 0.3961 - val_categorical_accuracy: 0.9291\n",
      "Epoch 17/100\n",
      "246/245 [==============================] - 1s 4ms/step - loss: 0.3407 - categorical_accuracy: 0.9467 - val_loss: 0.3955 - val_categorical_accuracy: 0.9272\n",
      "Epoch 18/100\n",
      "246/245 [==============================] - 1s 4ms/step - loss: 0.3383 - categorical_accuracy: 0.9476 - val_loss: 0.3919 - val_categorical_accuracy: 0.9287\n",
      "Epoch 19/100\n",
      "246/245 [==============================] - 1s 5ms/step - loss: 0.3366 - categorical_accuracy: 0.9477 - val_loss: 0.3926 - val_categorical_accuracy: 0.9259\n",
      "Epoch 20/100\n",
      "246/245 [==============================] - 1s 5ms/step - loss: 0.3348 - categorical_accuracy: 0.9478 - val_loss: 0.3898 - val_categorical_accuracy: 0.9274\n",
      "Epoch 21/100\n",
      "246/245 [==============================] - 1s 6ms/step - loss: 0.3327 - categorical_accuracy: 0.9484 - val_loss: 0.3869 - val_categorical_accuracy: 0.9295\n",
      "Epoch 22/100\n",
      "246/245 [==============================] - 1s 5ms/step - loss: 0.3306 - categorical_accuracy: 0.9485 - val_loss: 0.3848 - val_categorical_accuracy: 0.9296\n",
      "Epoch 23/100\n",
      "246/245 [==============================] - 1s 4ms/step - loss: 0.3289 - categorical_accuracy: 0.9487 - val_loss: 0.3828 - val_categorical_accuracy: 0.9305\n",
      "Epoch 24/100\n",
      "246/245 [==============================] - 1s 4ms/step - loss: 0.3271 - categorical_accuracy: 0.9488 - val_loss: 0.3813 - val_categorical_accuracy: 0.9297\n",
      "Epoch 25/100\n",
      "246/245 [==============================] - 1s 6ms/step - loss: 0.3252 - categorical_accuracy: 0.9498 - val_loss: 0.3796 - val_categorical_accuracy: 0.9304\n",
      "Epoch 26/100\n",
      "246/245 [==============================] - 1s 4ms/step - loss: 0.3237 - categorical_accuracy: 0.9492 - val_loss: 0.3792 - val_categorical_accuracy: 0.9308\n",
      "Epoch 27/100\n",
      "246/245 [==============================] - 1s 4ms/step - loss: 0.3215 - categorical_accuracy: 0.9501 - val_loss: 0.3773 - val_categorical_accuracy: 0.9292\n",
      "Epoch 28/100\n",
      "246/245 [==============================] - 1s 4ms/step - loss: 0.3201 - categorical_accuracy: 0.9507 - val_loss: 0.3753 - val_categorical_accuracy: 0.9314\n",
      "Epoch 29/100\n",
      "246/245 [==============================] - 1s 5ms/step - loss: 0.3179 - categorical_accuracy: 0.9505 - val_loss: 0.3747 - val_categorical_accuracy: 0.9300\n",
      "Epoch 30/100\n",
      "246/245 [==============================] - 1s 5ms/step - loss: 0.3163 - categorical_accuracy: 0.9503 - val_loss: 0.3716 - val_categorical_accuracy: 0.9311\n",
      "Epoch 31/100\n",
      "246/245 [==============================] - 1s 4ms/step - loss: 0.3145 - categorical_accuracy: 0.9507 - val_loss: 0.3721 - val_categorical_accuracy: 0.9315\n",
      "Epoch 32/100\n",
      "246/245 [==============================] - 1s 5ms/step - loss: 0.3127 - categorical_accuracy: 0.9513 - val_loss: 0.3723 - val_categorical_accuracy: 0.9280\n",
      "Epoch 33/100\n",
      "246/245 [==============================] - 1s 4ms/step - loss: 0.3114 - categorical_accuracy: 0.9511 - val_loss: 0.3673 - val_categorical_accuracy: 0.9331\n",
      "Epoch 34/100\n",
      "246/245 [==============================] - 1s 5ms/step - loss: 0.3097 - categorical_accuracy: 0.9514 - val_loss: 0.3684 - val_categorical_accuracy: 0.9323\n",
      "Epoch 35/100\n",
      "246/245 [==============================] - 2s 6ms/step - loss: 0.3081 - categorical_accuracy: 0.9524 - val_loss: 0.3661 - val_categorical_accuracy: 0.9297\n",
      "Epoch 36/100\n",
      "246/245 [==============================] - 2s 7ms/step - loss: 0.3070 - categorical_accuracy: 0.9518 - val_loss: 0.3655 - val_categorical_accuracy: 0.9309\n",
      "Epoch 37/100\n",
      "246/245 [==============================] - 2s 7ms/step - loss: 0.3051 - categorical_accuracy: 0.9522 - val_loss: 0.3635 - val_categorical_accuracy: 0.9309\n",
      "Epoch 38/100\n",
      "246/245 [==============================] - 2s 7ms/step - loss: 0.3035 - categorical_accuracy: 0.9527 - val_loss: 0.3589 - val_categorical_accuracy: 0.9336\n",
      "Epoch 39/100\n",
      "246/245 [==============================] - 1s 6ms/step - loss: 0.3020 - categorical_accuracy: 0.9523 - val_loss: 0.3579 - val_categorical_accuracy: 0.9348\n",
      "Epoch 40/100\n",
      "246/245 [==============================] - 1s 5ms/step - loss: 0.3005 - categorical_accuracy: 0.9534 - val_loss: 0.3577 - val_categorical_accuracy: 0.9334\n",
      "Epoch 41/100\n",
      "246/245 [==============================] - 1s 5ms/step - loss: 0.2988 - categorical_accuracy: 0.9534 - val_loss: 0.3573 - val_categorical_accuracy: 0.9336\n",
      "Epoch 42/100\n",
      "246/245 [==============================] - 1s 6ms/step - loss: 0.2974 - categorical_accuracy: 0.9533 - val_loss: 0.3566 - val_categorical_accuracy: 0.9320\n",
      "Epoch 43/100\n",
      "246/245 [==============================] - 1s 6ms/step - loss: 0.2957 - categorical_accuracy: 0.9533 - val_loss: 0.3533 - val_categorical_accuracy: 0.9334\n",
      "Epoch 44/100\n",
      "246/245 [==============================] - 1s 4ms/step - loss: 0.2943 - categorical_accuracy: 0.9536 - val_loss: 0.3527 - val_categorical_accuracy: 0.9339\n",
      "Epoch 45/100\n",
      "246/245 [==============================] - 1s 5ms/step - loss: 0.2929 - categorical_accuracy: 0.9543 - val_loss: 0.3526 - val_categorical_accuracy: 0.9322\n",
      "Epoch 46/100\n",
      "246/245 [==============================] - 1s 5ms/step - loss: 0.2918 - categorical_accuracy: 0.9550 - val_loss: 0.3506 - val_categorical_accuracy: 0.9332\n",
      "Epoch 47/100\n",
      "246/245 [==============================] - 1s 4ms/step - loss: 0.2903 - categorical_accuracy: 0.9549 - val_loss: 0.3500 - val_categorical_accuracy: 0.9329\n",
      "Epoch 48/100\n"
     ]
    },
    {
     "name": "stdout",
     "output_type": "stream",
     "text": [
      "246/245 [==============================] - 1s 5ms/step - loss: 0.2889 - categorical_accuracy: 0.9551 - val_loss: 0.3496 - val_categorical_accuracy: 0.9339\n",
      "Epoch 49/100\n",
      "246/245 [==============================] - 1s 5ms/step - loss: 0.2871 - categorical_accuracy: 0.9556 - val_loss: 0.3466 - val_categorical_accuracy: 0.9333\n",
      "Epoch 50/100\n",
      "246/245 [==============================] - 1s 6ms/step - loss: 0.2862 - categorical_accuracy: 0.9542 - val_loss: 0.3447 - val_categorical_accuracy: 0.9359\n",
      "Epoch 51/100\n",
      "246/245 [==============================] - 1s 6ms/step - loss: 0.2847 - categorical_accuracy: 0.9554 - val_loss: 0.3452 - val_categorical_accuracy: 0.9327\n",
      "Epoch 52/100\n",
      "246/245 [==============================] - 1s 5ms/step - loss: 0.2834 - categorical_accuracy: 0.9546 - val_loss: 0.3432 - val_categorical_accuracy: 0.9342\n",
      "Epoch 53/100\n",
      "246/245 [==============================] - 1s 5ms/step - loss: 0.2819 - categorical_accuracy: 0.9548 - val_loss: 0.3414 - val_categorical_accuracy: 0.9361\n",
      "Epoch 54/100\n",
      "246/245 [==============================] - 1s 5ms/step - loss: 0.2807 - categorical_accuracy: 0.9557 - val_loss: 0.3419 - val_categorical_accuracy: 0.9360\n",
      "Epoch 55/100\n",
      "246/245 [==============================] - 1s 5ms/step - loss: 0.2796 - categorical_accuracy: 0.9560 - val_loss: 0.3406 - val_categorical_accuracy: 0.9348\n",
      "Epoch 56/100\n",
      "246/245 [==============================] - 1s 5ms/step - loss: 0.2780 - categorical_accuracy: 0.9562 - val_loss: 0.3403 - val_categorical_accuracy: 0.9337\n",
      "Epoch 57/100\n",
      "246/245 [==============================] - 1s 4ms/step - loss: 0.2766 - categorical_accuracy: 0.9567 - val_loss: 0.3371 - val_categorical_accuracy: 0.9369\n",
      "Epoch 58/100\n",
      "246/245 [==============================] - 1s 4ms/step - loss: 0.2756 - categorical_accuracy: 0.9569 - val_loss: 0.3352 - val_categorical_accuracy: 0.9366\n",
      "Epoch 59/100\n",
      "246/245 [==============================] - 1s 6ms/step - loss: 0.2742 - categorical_accuracy: 0.9572 - val_loss: 0.3356 - val_categorical_accuracy: 0.9350\n",
      "Epoch 60/100\n",
      "246/245 [==============================] - 1s 5ms/step - loss: 0.2731 - categorical_accuracy: 0.9570 - val_loss: 0.3362 - val_categorical_accuracy: 0.9352\n",
      "Epoch 61/100\n",
      "246/245 [==============================] - 1s 5ms/step - loss: 0.2720 - categorical_accuracy: 0.9570 - val_loss: 0.3324 - val_categorical_accuracy: 0.9370\n",
      "Epoch 62/100\n",
      "246/245 [==============================] - 1s 5ms/step - loss: 0.2706 - categorical_accuracy: 0.9575 - val_loss: 0.3319 - val_categorical_accuracy: 0.9378\n",
      "Epoch 63/100\n",
      "246/245 [==============================] - 1s 5ms/step - loss: 0.2696 - categorical_accuracy: 0.9577 - val_loss: 0.3308 - val_categorical_accuracy: 0.9366\n",
      "Epoch 64/100\n",
      "246/245 [==============================] - 1s 5ms/step - loss: 0.2686 - categorical_accuracy: 0.9580 - val_loss: 0.3306 - val_categorical_accuracy: 0.9368\n",
      "Epoch 65/100\n",
      "246/245 [==============================] - 1s 5ms/step - loss: 0.2670 - categorical_accuracy: 0.9583 - val_loss: 0.3278 - val_categorical_accuracy: 0.9383\n",
      "Epoch 66/100\n",
      "246/245 [==============================] - 1s 5ms/step - loss: 0.2660 - categorical_accuracy: 0.9586 - val_loss: 0.3277 - val_categorical_accuracy: 0.9373\n",
      "Epoch 67/100\n",
      "246/245 [==============================] - 1s 5ms/step - loss: 0.2649 - categorical_accuracy: 0.9580 - val_loss: 0.3266 - val_categorical_accuracy: 0.9368\n",
      "Epoch 68/100\n",
      "246/245 [==============================] - 1s 4ms/step - loss: 0.2637 - categorical_accuracy: 0.9576 - val_loss: 0.3266 - val_categorical_accuracy: 0.9378\n",
      "Epoch 69/100\n",
      "246/245 [==============================] - 1s 5ms/step - loss: 0.2628 - categorical_accuracy: 0.9588 - val_loss: 0.3274 - val_categorical_accuracy: 0.9353\n",
      "Epoch 70/100\n",
      "246/245 [==============================] - 1s 5ms/step - loss: 0.2618 - categorical_accuracy: 0.9591 - val_loss: 0.3233 - val_categorical_accuracy: 0.9384\n",
      "Epoch 71/100\n",
      "246/245 [==============================] - 1s 5ms/step - loss: 0.2609 - categorical_accuracy: 0.9584 - val_loss: 0.3234 - val_categorical_accuracy: 0.9376\n",
      "Epoch 72/100\n",
      "246/245 [==============================] - 1s 5ms/step - loss: 0.2592 - categorical_accuracy: 0.9595 - val_loss: 0.3223 - val_categorical_accuracy: 0.9388\n",
      "Epoch 73/100\n",
      "246/245 [==============================] - 1s 5ms/step - loss: 0.2585 - categorical_accuracy: 0.9594 - val_loss: 0.3204 - val_categorical_accuracy: 0.9384\n",
      "Epoch 74/100\n",
      "246/245 [==============================] - 1s 5ms/step - loss: 0.2573 - categorical_accuracy: 0.9599 - val_loss: 0.3209 - val_categorical_accuracy: 0.9373\n",
      "Epoch 75/100\n",
      "246/245 [==============================] - 1s 5ms/step - loss: 0.2561 - categorical_accuracy: 0.9600 - val_loss: 0.3215 - val_categorical_accuracy: 0.9364\n",
      "Epoch 76/100\n",
      "246/245 [==============================] - 1s 5ms/step - loss: 0.2551 - categorical_accuracy: 0.9601 - val_loss: 0.3183 - val_categorical_accuracy: 0.9390\n",
      "Epoch 77/100\n",
      "246/245 [==============================] - 1s 5ms/step - loss: 0.2542 - categorical_accuracy: 0.9594 - val_loss: 0.3199 - val_categorical_accuracy: 0.9359\n",
      "Epoch 78/100\n",
      "246/245 [==============================] - 1s 5ms/step - loss: 0.2530 - categorical_accuracy: 0.9605 - val_loss: 0.3169 - val_categorical_accuracy: 0.9384\n",
      "Epoch 79/100\n",
      "246/245 [==============================] - 1s 5ms/step - loss: 0.2520 - categorical_accuracy: 0.9608 - val_loss: 0.3146 - val_categorical_accuracy: 0.9385\n",
      "Epoch 80/100\n",
      "246/245 [==============================] - 1s 5ms/step - loss: 0.2511 - categorical_accuracy: 0.9615 - val_loss: 0.3143 - val_categorical_accuracy: 0.9387\n",
      "Epoch 81/100\n",
      "246/245 [==============================] - 1s 5ms/step - loss: 0.2499 - categorical_accuracy: 0.9616 - val_loss: 0.3141 - val_categorical_accuracy: 0.9389\n",
      "Epoch 82/100\n",
      "246/245 [==============================] - 1s 5ms/step - loss: 0.2491 - categorical_accuracy: 0.9615 - val_loss: 0.3126 - val_categorical_accuracy: 0.9390\n",
      "Epoch 83/100\n",
      "246/245 [==============================] - 1s 5ms/step - loss: 0.2480 - categorical_accuracy: 0.9610 - val_loss: 0.3132 - val_categorical_accuracy: 0.9390\n",
      "Epoch 84/100\n",
      "246/245 [==============================] - 1s 5ms/step - loss: 0.2471 - categorical_accuracy: 0.9612 - val_loss: 0.3132 - val_categorical_accuracy: 0.9399\n",
      "Epoch 85/100\n",
      "246/245 [==============================] - 1s 5ms/step - loss: 0.2464 - categorical_accuracy: 0.9618 - val_loss: 0.3102 - val_categorical_accuracy: 0.9402\n",
      "Epoch 86/100\n",
      "246/245 [==============================] - 1s 5ms/step - loss: 0.2454 - categorical_accuracy: 0.9613 - val_loss: 0.3100 - val_categorical_accuracy: 0.9394\n",
      "Epoch 87/100\n",
      "246/245 [==============================] - 1s 5ms/step - loss: 0.2443 - categorical_accuracy: 0.9617 - val_loss: 0.3074 - val_categorical_accuracy: 0.9411\n",
      "Epoch 88/100\n",
      "246/245 [==============================] - 1s 5ms/step - loss: 0.2432 - categorical_accuracy: 0.9616 - val_loss: 0.3084 - val_categorical_accuracy: 0.9392\n",
      "Epoch 89/100\n",
      "246/245 [==============================] - 1s 5ms/step - loss: 0.2425 - categorical_accuracy: 0.9619 - val_loss: 0.3084 - val_categorical_accuracy: 0.9399\n",
      "Epoch 90/100\n",
      "246/245 [==============================] - 1s 5ms/step - loss: 0.2412 - categorical_accuracy: 0.9621 - val_loss: 0.3072 - val_categorical_accuracy: 0.9387\n",
      "Epoch 91/100\n",
      "246/245 [==============================] - 1s 4ms/step - loss: 0.2404 - categorical_accuracy: 0.9626 - val_loss: 0.3079 - val_categorical_accuracy: 0.9387\n",
      "Epoch 92/100\n",
      "246/245 [==============================] - 1s 4ms/step - loss: 0.2394 - categorical_accuracy: 0.9628 - val_loss: 0.3041 - val_categorical_accuracy: 0.9408\n",
      "Epoch 93/100\n",
      "246/245 [==============================] - 1s 4ms/step - loss: 0.2387 - categorical_accuracy: 0.9626 - val_loss: 0.3046 - val_categorical_accuracy: 0.9410\n",
      "Epoch 94/100\n",
      "246/245 [==============================] - 1s 5ms/step - loss: 0.2376 - categorical_accuracy: 0.9627 - val_loss: 0.3033 - val_categorical_accuracy: 0.9412\n",
      "Epoch 95/100\n",
      "246/245 [==============================] - 1s 5ms/step - loss: 0.2370 - categorical_accuracy: 0.9629 - val_loss: 0.3022 - val_categorical_accuracy: 0.9401\n",
      "Epoch 96/100\n",
      "246/245 [==============================] - 1s 5ms/step - loss: 0.2361 - categorical_accuracy: 0.9628 - val_loss: 0.3019 - val_categorical_accuracy: 0.9412\n"
     ]
    },
    {
     "name": "stdout",
     "output_type": "stream",
     "text": [
      "Epoch 97/100\n",
      "246/245 [==============================] - 1s 4ms/step - loss: 0.2350 - categorical_accuracy: 0.9636 - val_loss: 0.3030 - val_categorical_accuracy: 0.9393\n",
      "Epoch 98/100\n",
      "246/245 [==============================] - 1s 4ms/step - loss: 0.2343 - categorical_accuracy: 0.9634 - val_loss: 0.3004 - val_categorical_accuracy: 0.9403\n",
      "Epoch 99/100\n",
      "246/245 [==============================] - 1s 4ms/step - loss: 0.2334 - categorical_accuracy: 0.9635 - val_loss: 0.3001 - val_categorical_accuracy: 0.9406\n",
      "Epoch 100/100\n",
      "246/245 [==============================] - 1s 4ms/step - loss: 0.2327 - categorical_accuracy: 0.9632 - val_loss: 0.2988 - val_categorical_accuracy: 0.9420\n"
     ]
    }
   ],
   "source": [
    "epochs = 100\n",
    "batchsize = 128\n",
    "history2 = model2.fit(train_datagen.flow(X_train, y_train, batch_size=batchsize), \n",
    "                    validation_data=val_datagen.flow(X_val, y_val, batch_size=batchsize),\n",
    "                    steps_per_epoch=len(X_train) / batchsize,\n",
    "                    shuffle=True,\n",
    "                    callbacks=[callback],\n",
    "                    epochs=epochs)"
   ]
  },
  {
   "cell_type": "code",
   "execution_count": 19,
   "metadata": {},
   "outputs": [
    {
     "name": "stdout",
     "output_type": "stream",
     "text": [
      "WARNING:tensorflow:sample_weight modes were coerced from\n",
      "  ...\n",
      "    to  \n",
      "  ['...']\n",
      "WARNING:tensorflow:sample_weight modes were coerced from\n",
      "  ...\n",
      "    to  \n",
      "  ['...']\n",
      "Train for 245.0546875 steps, validate for 62 steps\n",
      "Epoch 1/100\n",
      "246/245 [==============================] - 1s 4ms/step - loss: 0.2322 - categorical_accuracy: 0.9635 - val_loss: 0.2982 - val_categorical_accuracy: 0.9420\n",
      "Epoch 2/100\n",
      "246/245 [==============================] - 1s 5ms/step - loss: 0.2315 - categorical_accuracy: 0.9636 - val_loss: 0.2990 - val_categorical_accuracy: 0.9397\n",
      "Epoch 3/100\n",
      "246/245 [==============================] - 1s 4ms/step - loss: 0.2304 - categorical_accuracy: 0.9643 - val_loss: 0.2971 - val_categorical_accuracy: 0.9397\n",
      "Epoch 4/100\n",
      "246/245 [==============================] - 1s 4ms/step - loss: 0.2294 - categorical_accuracy: 0.9639 - val_loss: 0.2964 - val_categorical_accuracy: 0.9415\n",
      "Epoch 5/100\n",
      "246/245 [==============================] - 1s 4ms/step - loss: 0.2285 - categorical_accuracy: 0.9644 - val_loss: 0.2979 - val_categorical_accuracy: 0.9410\n",
      "Epoch 6/100\n",
      "246/245 [==============================] - 1s 5ms/step - loss: 0.2277 - categorical_accuracy: 0.9643 - val_loss: 0.2959 - val_categorical_accuracy: 0.9408\n",
      "Epoch 7/100\n",
      "246/245 [==============================] - 2s 7ms/step - loss: 0.2269 - categorical_accuracy: 0.9643 - val_loss: 0.2965 - val_categorical_accuracy: 0.9402\n",
      "Epoch 8/100\n",
      "246/245 [==============================] - 1s 5ms/step - loss: 0.2264 - categorical_accuracy: 0.9642 - val_loss: 0.2937 - val_categorical_accuracy: 0.9430\n",
      "Epoch 9/100\n",
      "246/245 [==============================] - 1s 4ms/step - loss: 0.2255 - categorical_accuracy: 0.9647 - val_loss: 0.2937 - val_categorical_accuracy: 0.9416\n",
      "Epoch 10/100\n",
      "246/245 [==============================] - 1s 5ms/step - loss: 0.2246 - categorical_accuracy: 0.9645 - val_loss: 0.2922 - val_categorical_accuracy: 0.9421\n",
      "Epoch 11/100\n",
      "246/245 [==============================] - 1s 5ms/step - loss: 0.2238 - categorical_accuracy: 0.9649 - val_loss: 0.2928 - val_categorical_accuracy: 0.9424\n",
      "Epoch 12/100\n",
      "246/245 [==============================] - 1s 5ms/step - loss: 0.2236 - categorical_accuracy: 0.9642 - val_loss: 0.2922 - val_categorical_accuracy: 0.9408\n",
      "Epoch 13/100\n",
      "246/245 [==============================] - 1s 5ms/step - loss: 0.2225 - categorical_accuracy: 0.9653 - val_loss: 0.2904 - val_categorical_accuracy: 0.9419\n",
      "Epoch 14/100\n",
      "246/245 [==============================] - 1s 4ms/step - loss: 0.2214 - categorical_accuracy: 0.9649 - val_loss: 0.2892 - val_categorical_accuracy: 0.9431\n",
      "Epoch 15/100\n",
      "246/245 [==============================] - 1s 5ms/step - loss: 0.2210 - categorical_accuracy: 0.9659 - val_loss: 0.2912 - val_categorical_accuracy: 0.9411\n",
      "Epoch 16/100\n",
      "246/245 [==============================] - 1s 6ms/step - loss: 0.2202 - categorical_accuracy: 0.9660 - val_loss: 0.2894 - val_categorical_accuracy: 0.9421\n",
      "Epoch 17/100\n",
      "246/245 [==============================] - 1s 5ms/step - loss: 0.2194 - categorical_accuracy: 0.9653 - val_loss: 0.2873 - val_categorical_accuracy: 0.9435\n",
      "Epoch 18/100\n",
      "246/245 [==============================] - 1s 5ms/step - loss: 0.2185 - categorical_accuracy: 0.9657 - val_loss: 0.2893 - val_categorical_accuracy: 0.9415\n",
      "Epoch 19/100\n",
      "246/245 [==============================] - 2s 6ms/step - loss: 0.2180 - categorical_accuracy: 0.9657 - val_loss: 0.2871 - val_categorical_accuracy: 0.9436\n",
      "Epoch 20/100\n",
      "246/245 [==============================] - 1s 5ms/step - loss: 0.2169 - categorical_accuracy: 0.9667 - val_loss: 0.2877 - val_categorical_accuracy: 0.9429\n",
      "Epoch 21/100\n",
      "246/245 [==============================] - 1s 4ms/step - loss: 0.2161 - categorical_accuracy: 0.9662 - val_loss: 0.2877 - val_categorical_accuracy: 0.9410\n",
      "Epoch 22/100\n",
      "246/245 [==============================] - 1s 4ms/step - loss: 0.2160 - categorical_accuracy: 0.9657 - val_loss: 0.2849 - val_categorical_accuracy: 0.9439\n",
      "Epoch 23/100\n",
      "246/245 [==============================] - 1s 4ms/step - loss: 0.2149 - categorical_accuracy: 0.9663 - val_loss: 0.2844 - val_categorical_accuracy: 0.9431\n",
      "Epoch 24/100\n",
      "246/245 [==============================] - 1s 4ms/step - loss: 0.2142 - categorical_accuracy: 0.9667 - val_loss: 0.2847 - val_categorical_accuracy: 0.9425\n",
      "Epoch 25/100\n",
      "246/245 [==============================] - 1s 5ms/step - loss: 0.2137 - categorical_accuracy: 0.9666 - val_loss: 0.2846 - val_categorical_accuracy: 0.9436\n"
     ]
    }
   ],
   "source": [
    "epochs = 100\n",
    "batchsize = 128\n",
    "history3 = model2.fit(train_datagen.flow(X_train, y_train, batch_size=batchsize), \n",
    "                    validation_data=val_datagen.flow(X_val, y_val, batch_size=batchsize),\n",
    "                    steps_per_epoch=len(X_train) / batchsize,\n",
    "                    shuffle=True,\n",
    "                    callbacks=[callback],\n",
    "                    epochs=epochs)"
   ]
  },
  {
   "cell_type": "code",
   "execution_count": 21,
   "metadata": {},
   "outputs": [
    {
     "data": {
      "image/png": "[encoded data removed]",
      "text/plain": [
       "<Figure size 432x288 with 1 Axes>"
      ]
     },
     "metadata": {
      "needs_background": "light"
     },
     "output_type": "display_data"
    },
    {
     "data": {
      "image/png": "[encoded data removed]",
      "text/plain": [
       "<Figure size 432x288 with 1 Axes>"
      ]
     },
     "metadata": {
      "needs_background": "light"
     },
     "output_type": "display_data"
    }
   ],
   "source": [
    "# Plot training & validation loss values\n",
    "plt.plot(history3.history['loss'])\n",
    "plt.plot(history3.history['val_loss'])\n",
    "plt.title('Model loss')\n",
    "plt.ylabel('Loss')\n",
    "plt.xlabel('Epoch')\n",
    "plt.legend(['Train', 'Validation'], loc='upper left')\n",
    "plt.show()\n",
    "\n",
    "plt.plot(history3.history['categorical_accuracy'])\n",
    "plt.plot(history3.history['val_categorical_accuracy'])\n",
    "plt.title('Model categorical_accuracy')\n",
    "plt.ylabel('Categorical Accuracy')\n",
    "plt.xlabel('Epoch')\n",
    "plt.legend(['Train', 'Validation'], loc='upper left')\n",
    "plt.show()"
   ]
  },
  {
   "cell_type": "code",
   "execution_count": 22,
   "metadata": {},
   "outputs": [],
   "source": [
    "predictions2 = model2.predict(X_test)"
   ]
  },
  {
   "cell_type": "code",
   "execution_count": 23,
   "metadata": {},
   "outputs": [],
   "source": [
    "preds_to_submit2 = pd.DataFrame(predictions2.astype('int'))"
   ]
  },
  {
   "cell_type": "code",
   "execution_count": 24,
   "metadata": {},
   "outputs": [],
   "source": [
    "preds_to_submit.to_csv(\"./shallow_network_predictions_hypterparameter_tuning2.csv\")"
   ]
  },
  {
   "cell_type": "code",
   "execution_count": null,
   "metadata": {},
   "outputs": [],
   "source": []
  }
 ],
 "metadata": {
  "kernelspec": {
   "display_name": "Python 3",
   "language": "python",
   "name": "python3"
  },
  "language_info": {
   "codemirror_mode": {
    "name": "ipython",
    "version": 3
   },
   "file_extension": ".py",
   "mimetype": "text/x-python",
   "name": "python",
   "nbconvert_exporter": "python",
   "pygments_lexer": "ipython3",
   "version": "3.7.4"
  }
 },
 "nbformat": 4,
 "nbformat_minor": 2
}
